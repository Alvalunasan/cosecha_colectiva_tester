{
 "cells": [
  {
   "cell_type": "code",
   "execution_count": 1,
   "id": "352e1825",
   "metadata": {},
   "outputs": [
    {
     "name": "stdout",
     "output_type": "stream",
     "text": [
      "Local configuration file found !!, no need to run the configuration (unless configuration has changed)\n"
     ]
    },
    {
     "name": "stderr",
     "output_type": "stream",
     "text": [
      "[2023-04-19 12:03:20,048][INFO]: Connecting b3cf7edd2f8490@us-cdbr-east-06.cleardb.net:3306\n",
      "[2023-04-19 12:03:20,853][INFO]: Connected b3cf7edd2f8490@us-cdbr-east-06.cleardb.net:3306\n"
     ]
    }
   ],
   "source": [
    "from cosecha_colectiva import miscelaneous as m\n",
    "m.try_find_conf_file()\n",
    "\n",
    "\n",
    "from cosecha_colectiva import main_tester as mt\n",
    "from cosecha_colectiva import config\n",
    "from cosecha_colectiva import query_cosecha as qc\n",
    "from cosecha_colectiva import test_cosecha_api as tca\n",
    "\n",
    "import logging\n",
    "import pathlib\n",
    "from datetime import datetime"
   ]
  },
  {
   "cell_type": "code",
   "execution_count": 2,
   "id": "f70489ee",
   "metadata": {},
   "outputs": [],
   "source": [
    "xls_name = 'CAF_GrupoMesero.xlsx'"
   ]
  },
  {
   "cell_type": "code",
   "execution_count": 7,
   "id": "e0c328e8",
   "metadata": {},
   "outputs": [
    {
     "name": "stdout",
     "output_type": "stream",
     "text": [
      "1294\n"
     ]
    }
   ],
   "source": [
    "id_grupo = qc.get_grupo_id_by_name(xls_name.split('.')[0])\n",
    "print(id_grupo)\n",
    "#qc.delete_grupo(id_grupo, solo_sesiones=True)\n",
    "#qc.delete_grupo(id_grupo)"
   ]
  },
  {
   "cell_type": "code",
   "execution_count": 4,
   "id": "53588faa",
   "metadata": {},
   "outputs": [],
   "source": [
    "now = datetime.now()\n",
    "log_date = now.strftime(\"%Y-%m-%d_%H_%M_%S\")\n",
    "log_file = pathlib.Path(config.log_dir, log_date+'CreacionGrupo.log')\n",
    "logging.basicConfig(filename=log_file, encoding='utf-8', level=logging.INFO)"
   ]
  },
  {
   "cell_type": "code",
   "execution_count": 5,
   "id": "0ed8719d",
   "metadata": {},
   "outputs": [
    {
     "ename": "Exception",
     "evalue": "No se pudieron crear los acuerdos ",
     "output_type": "error",
     "traceback": [
      "\u001b[0;31m---------------------------------------------------------------------------\u001b[0m",
      "\u001b[0;31mException\u001b[0m                                 Traceback (most recent call last)",
      "\u001b[1;32m/Users/alvaros/Documents/MATLAB/PersonalProjects/Cosecha_Colectiva/notebooks/creacion_grupo_final.ipynb Cell 5\u001b[0m in \u001b[0;36m<cell line: 1>\u001b[0;34m()\u001b[0m\n\u001b[0;32m----> <a href='vscode-notebook-cell:/Users/alvaros/Documents/MATLAB/PersonalProjects/Cosecha_Colectiva/notebooks/creacion_grupo_final.ipynb#W4sZmlsZQ%3D%3D?line=0'>1</a>\u001b[0m mt\u001b[39m.\u001b[39;49mtest_crear_grupo(xls_name)\n",
      "File \u001b[0;32m~/Documents/MATLAB/PersonalProjects/Cosecha_Colectiva/cosecha_colectiva/main_tester.py:10\u001b[0m, in \u001b[0;36mtest_crear_grupo\u001b[0;34m(xls_name)\u001b[0m\n\u001b[1;32m      8\u001b[0m \u001b[39mdef\u001b[39;00m \u001b[39mtest_crear_grupo\u001b[39m(xls_name):\n\u001b[0;32m---> 10\u001b[0m     tca\u001b[39m.\u001b[39;49mCAF_API_group_creation_tester\u001b[39m.\u001b[39;49mmain_create_group(xls_name)\n",
      "File \u001b[0;32m~/Documents/MATLAB/PersonalProjects/Cosecha_Colectiva/cosecha_colectiva/test_cosecha_api.py:211\u001b[0m, in \u001b[0;36mCAF_API_group_creation_tester.main_create_group\u001b[0;34m(xls_name)\u001b[0m\n\u001b[1;32m    208\u001b[0m id_sesion \u001b[39m=\u001b[39m qc\u001b[39m.\u001b[39mget_active_sesion(id_grupo)\n\u001b[1;32m    210\u001b[0m time\u001b[39m.\u001b[39msleep(\u001b[39m0.1\u001b[39m)\n\u001b[0;32m--> 211\u001b[0m CAF_API_group_creation_tester\u001b[39m.\u001b[39;49mcreate_acuerdos(xls_name)\n\u001b[1;32m    212\u001b[0m time\u001b[39m.\u001b[39msleep(\u001b[39m0.1\u001b[39m)\n\u001b[1;32m    213\u001b[0m CAF_API_group_creation_tester\u001b[39m.\u001b[39macciones_iniciales(xls_name, id_grupo, id_sesion)\n",
      "File \u001b[0;32m~/Documents/MATLAB/PersonalProjects/Cosecha_Colectiva/cosecha_colectiva/test_cosecha_api.py:174\u001b[0m, in \u001b[0;36mCAF_API_group_creation_tester.create_acuerdos\u001b[0;34m(xls_name, idx_acuerdos)\u001b[0m\n\u001b[1;32m    172\u001b[0m \u001b[39mif\u001b[39;00m \u001b[39mnot\u001b[39;00m response:\n\u001b[1;32m    173\u001b[0m     logging\u001b[39m.\u001b[39merror(\u001b[39m'\u001b[39m\u001b[39m%s\u001b[39;00m\u001b[39m'\u001b[39m, response\u001b[39m.\u001b[39mtext)\n\u001b[0;32m--> 174\u001b[0m     \u001b[39mraise\u001b[39;00m \u001b[39mException\u001b[39;00m(\u001b[39m'\u001b[39m\u001b[39mNo se pudieron crear los acuerdos \u001b[39m\u001b[39m'\u001b[39m)\n",
      "\u001b[0;31mException\u001b[0m: No se pudieron crear los acuerdos "
     ]
    }
   ],
   "source": [
    "mt.test_crear_grupo(xls_name)"
   ]
  },
  {
   "cell_type": "code",
   "execution_count": 8,
   "id": "a2d371be",
   "metadata": {},
   "outputs": [],
   "source": [
    "import time\n",
    "admin_header,_ = tca.CAF_API_general.login_first_user_excel(xls_name)\n",
    "\n",
    "tca.CAF_API_sessions_tester.create_session(id_grupo, admin_header)\n",
    "\n",
    "id_sesion = qc.get_active_sesion(id_grupo)\n",
    "\n",
    "time.sleep(0.1)\n",
    "tca.CAF_API_group_creation_tester.create_acuerdos(xls_name)\n",
    "time.sleep(0.1)\n",
    "tca.CAF_API_group_creation_tester.acciones_iniciales(xls_name, id_grupo, id_sesion)\n",
    "time.sleep(0.1)\n",
    "tca.CAF_API_sessions_tester.end_session(id_grupo, admin_header)"
   ]
  },
  {
   "cell_type": "code",
   "execution_count": null,
   "id": "463ac7bc",
   "metadata": {},
   "outputs": [],
   "source": []
  }
 ],
 "metadata": {
  "kernelspec": {
   "display_name": "cosecha_colectiva_env",
   "language": "python",
   "name": "python3"
  },
  "language_info": {
   "codemirror_mode": {
    "name": "ipython",
    "version": 3
   },
   "file_extension": ".py",
   "mimetype": "text/x-python",
   "name": "python",
   "nbconvert_exporter": "python",
   "pygments_lexer": "ipython3",
   "version": "3.9.12"
  },
  "vscode": {
   "interpreter": {
    "hash": "cdce1354676d05e6f6f63465f4a19b9f41e207b5ed2e5edccc9c3b7980cbdc99"
   }
  }
 },
 "nbformat": 4,
 "nbformat_minor": 5
}
