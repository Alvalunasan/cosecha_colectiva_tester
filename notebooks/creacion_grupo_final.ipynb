{
 "cells": [
  {
   "cell_type": "code",
   "execution_count": 1,
   "id": "352e1825",
   "metadata": {},
   "outputs": [
    {
     "name": "stdout",
     "output_type": "stream",
     "text": [
      "Local configuration file found !!, no need to run the configuration (unless configuration has changed)\n"
     ]
    },
    {
     "name": "stderr",
     "output_type": "stream",
     "text": [
      "[2024-12-09 19:09:43,121][INFO]: Connecting root@junction.proxy.rlwy.net:19994\n",
      "[2024-12-09 19:09:44,411][INFO]: Connected root@junction.proxy.rlwy.net:19994\n"
     ]
    }
   ],
   "source": [
    "from cosecha_colectiva import miscelaneous as m\n",
    "m.try_find_conf_file()\n",
    "\n",
    "\n",
    "from cosecha_colectiva import main_tester as mt\n",
    "from cosecha_colectiva import config\n",
    "from cosecha_colectiva import query_cosecha as qc\n",
    "from cosecha_colectiva import test_cosecha_api as tca\n",
    "\n",
    "import logging\n",
    "import pathlib\n",
    "from datetime import datetime"
   ]
  },
  {
   "cell_type": "code",
   "execution_count": 2,
   "id": "f70489ee",
   "metadata": {},
   "outputs": [],
   "source": [
    "xls_name = 'CAF_GrupoTroll.xlsx'\n",
    "#xls_name = 'CAF_GrupoTest.xlsx'\n",
    "#xls_name = 'CAF_GrupoHidalgo.xlsx'\n",
    "#xls_name = 'GrupoCafam.xlsx'\n",
    "\n",
    "#xls_name = 'Yeiyei'"
   ]
  },
  {
   "cell_type": "code",
   "execution_count": 5,
   "id": "e0c328e8",
   "metadata": {},
   "outputs": [
    {
     "ename": "Exception",
     "evalue": "No hay grupo con el nombre",
     "output_type": "error",
     "traceback": [
      "\u001b[0;31m---------------------------------------------------------------------------\u001b[0m",
      "\u001b[0;31mException\u001b[0m                                 Traceback (most recent call last)",
      "Input \u001b[0;32mIn [5]\u001b[0m, in \u001b[0;36m<cell line: 1>\u001b[0;34m()\u001b[0m\n\u001b[0;32m----> 1\u001b[0m id_grupo \u001b[38;5;241m=\u001b[39m \u001b[43mqc\u001b[49m\u001b[38;5;241;43m.\u001b[39;49m\u001b[43mget_grupo_id_by_name\u001b[49m\u001b[43m(\u001b[49m\u001b[43mxls_name\u001b[49m\u001b[38;5;241;43m.\u001b[39;49m\u001b[43msplit\u001b[49m\u001b[43m(\u001b[49m\u001b[38;5;124;43m'\u001b[39;49m\u001b[38;5;124;43m.\u001b[39;49m\u001b[38;5;124;43m'\u001b[39;49m\u001b[43m)\u001b[49m\u001b[43m[\u001b[49m\u001b[38;5;241;43m0\u001b[39;49m\u001b[43m]\u001b[49m\u001b[43m)\u001b[49m\n\u001b[1;32m      2\u001b[0m \u001b[38;5;28mprint\u001b[39m(id_grupo)\n",
      "File \u001b[0;32m~/Documents/MATLAB/PersonalProjects/Cosecha_Colectiva/cosecha_colectiva/query_cosecha.py:231\u001b[0m, in \u001b[0;36mget_grupo_id_by_name\u001b[0;34m(group_name)\u001b[0m\n\u001b[1;32m    229\u001b[0m     \u001b[38;5;28;01mraise\u001b[39;00m \u001b[38;5;167;01mException\u001b[39;00m(\u001b[38;5;124m'\u001b[39m\u001b[38;5;124mMas de 1 grupo con el mismo nombre\u001b[39m\u001b[38;5;124m'\u001b[39m)\n\u001b[1;32m    230\u001b[0m \u001b[38;5;28;01melif\u001b[39;00m \u001b[38;5;28mlen\u001b[39m(grupo_id) \u001b[38;5;241m==\u001b[39m \u001b[38;5;241m0\u001b[39m:\n\u001b[0;32m--> 231\u001b[0m     \u001b[38;5;28;01mraise\u001b[39;00m \u001b[38;5;167;01mException\u001b[39;00m(\u001b[38;5;124m'\u001b[39m\u001b[38;5;124mNo hay grupo con el nombre\u001b[39m\u001b[38;5;124m'\u001b[39m)\n\u001b[1;32m    232\u001b[0m \u001b[38;5;28;01melse\u001b[39;00m:\n\u001b[1;32m    233\u001b[0m     grupo_id \u001b[38;5;241m=\u001b[39m grupo_id[\u001b[38;5;241m0\u001b[39m][\u001b[38;5;124m'\u001b[39m\u001b[38;5;124mGrupo_id\u001b[39m\u001b[38;5;124m'\u001b[39m]\n",
      "\u001b[0;31mException\u001b[0m: No hay grupo con el nombre"
     ]
    }
   ],
   "source": [
    "id_grupo = qc.get_grupo_id_by_name(xls_name.split('.')[0])\n",
    "print(id_grupo)\n",
    "#qc.delete_grupo(id_grupo, solo_sesiones=True)\n",
    "#qc.delete_grupo(id_grupo)"
   ]
  },
  {
   "cell_type": "code",
   "execution_count": 4,
   "id": "21de7427",
   "metadata": {},
   "outputs": [
    {
     "ename": "NameError",
     "evalue": "name 'id_grupo' is not defined",
     "output_type": "error",
     "traceback": [
      "\u001b[0;31m---------------------------------------------------------------------------\u001b[0m",
      "\u001b[0;31mNameError\u001b[0m                                 Traceback (most recent call last)",
      "Input \u001b[0;32mIn [4]\u001b[0m, in \u001b[0;36m<cell line: 1>\u001b[0;34m()\u001b[0m\n\u001b[0;32m----> 1\u001b[0m qc\u001b[38;5;241m.\u001b[39mdelete_grupo(\u001b[43mid_grupo\u001b[49m, force_delete\u001b[38;5;241m=\u001b[39m\u001b[38;5;28;01mFalse\u001b[39;00m)\n",
      "\u001b[0;31mNameError\u001b[0m: name 'id_grupo' is not defined"
     ]
    }
   ],
   "source": [
    "qc.delete_grupo(id_grupo, force_delete=False)"
   ]
  },
  {
   "cell_type": "code",
   "execution_count": 27,
   "id": "53588faa",
   "metadata": {},
   "outputs": [],
   "source": [
    "now = datetime.now()\n",
    "log_date = now.strftime(\"%Y-%m-%d_%H_%M_%S\")\n",
    "log_file = pathlib.Path(config.log_dir, log_date+'CreacionGrupo.log')\n",
    "logging.basicConfig(filename=log_file, encoding='utf-8', level=logging.INFO)"
   ]
  },
  {
   "cell_type": "code",
   "execution_count": 28,
   "id": "0ed8719d",
   "metadata": {},
   "outputs": [
    {
     "name": "stdout",
     "output_type": "stream",
     "text": [
      "<Response [200]>\n",
      "<Response [200]>\n",
      "<Response [200]>\n",
      "<Response [200]>\n",
      "<Response [200]>\n",
      "<Response [200]>\n",
      "<Response [200]>\n",
      "<Response [200]>\n",
      "<Response [200]>\n",
      "<Response [200]>\n"
     ]
    },
    {
     "name": "stderr",
     "output_type": "stream",
     "text": [
      "[2024-11-15 12:50:21,966][WARNING]: MySQL server has gone away. Reconnecting to the server.\n"
     ]
    },
    {
     "name": "stdout",
     "output_type": "stream",
     "text": [
      "{\"code\":200,\"message\":\"Sesion creada y asistencias registradas\",\"sesionType\":0,\"Sesiones_restantes\":null}\n",
      "<Response [200]>\n",
      "<Response [200]>\n",
      "<Response [200]>\n"
     ]
    }
   ],
   "source": [
    "mt.test_crear_grupo(xls_name)"
   ]
  },
  {
   "cell_type": "code",
   "execution_count": 8,
   "id": "a2d371be",
   "metadata": {},
   "outputs": [],
   "source": [
    "import time\n",
    "admin_header,_ = tca.CAF_API_general.login_first_user_excel(xls_name)\n",
    "\n",
    "tca.CAF_API_sessions_tester.create_session(id_grupo, admin_header)\n",
    "\n",
    "id_sesion = qc.get_active_sesion(id_grupo)\n",
    "\n",
    "time.sleep(0.1)\n",
    "tca.CAF_API_group_creation_tester.create_acuerdos(xls_name)\n",
    "time.sleep(0.1)\n",
    "tca.CAF_API_group_creation_tester.acciones_iniciales(xls_name, id_grupo, id_sesion)\n",
    "time.sleep(0.1)\n",
    "tca.CAF_API_sessions_tester.end_session(id_grupo, admin_header)"
   ]
  },
  {
   "cell_type": "code",
   "execution_count": null,
   "id": "463ac7bc",
   "metadata": {},
   "outputs": [],
   "source": []
  }
 ],
 "metadata": {
  "kernelspec": {
   "display_name": "cosecha_colectiva_env",
   "language": "python",
   "name": "python3"
  },
  "language_info": {
   "codemirror_mode": {
    "name": "ipython",
    "version": 3
   },
   "file_extension": ".py",
   "mimetype": "text/x-python",
   "name": "python",
   "nbconvert_exporter": "python",
   "pygments_lexer": "ipython3",
   "version": "3.9.21"
  },
  "vscode": {
   "interpreter": {
    "hash": "cdce1354676d05e6f6f63465f4a19b9f41e207b5ed2e5edccc9c3b7980cbdc99"
   }
  }
 },
 "nbformat": 4,
 "nbformat_minor": 5
}
