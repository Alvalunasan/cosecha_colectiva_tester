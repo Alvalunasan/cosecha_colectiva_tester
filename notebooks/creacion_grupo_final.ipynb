{
 "cells": [
  {
   "cell_type": "code",
   "execution_count": 1,
   "id": "352e1825",
   "metadata": {},
   "outputs": [
    {
     "name": "stdout",
     "output_type": "stream",
     "text": [
      "Local configuration file found !!, no need to run the configuration (unless configuration has changed)\n"
     ]
    },
    {
     "name": "stderr",
     "output_type": "stream",
     "text": [
      "[2023-04-26 17:05:47,546][INFO]: Connecting b3cf7edd2f8490@us-cdbr-east-06.cleardb.net:3306\n",
      "[2023-04-26 17:05:48,370][INFO]: Connected b3cf7edd2f8490@us-cdbr-east-06.cleardb.net:3306\n"
     ]
    }
   ],
   "source": [
    "from cosecha_colectiva import miscelaneous as m\n",
    "m.try_find_conf_file()\n",
    "\n",
    "\n",
    "from cosecha_colectiva import main_tester as mt\n",
    "from cosecha_colectiva import config\n",
    "from cosecha_colectiva import query_cosecha as qc\n",
    "from cosecha_colectiva import test_cosecha_api as tca\n",
    "\n",
    "import logging\n",
    "import pathlib\n",
    "from datetime import datetime"
   ]
  },
  {
   "cell_type": "code",
   "execution_count": 2,
   "id": "f70489ee",
   "metadata": {},
   "outputs": [],
   "source": [
    "xls_name = 'CAF_GrupoMesero.xlsx'"
   ]
  },
  {
   "cell_type": "code",
   "execution_count": 3,
   "id": "e0c328e8",
   "metadata": {},
   "outputs": [
    {
     "name": "stdout",
     "output_type": "stream",
     "text": [
      "1334\n"
     ]
    }
   ],
   "source": [
    "id_grupo = qc.get_grupo_id_by_name(xls_name.split('.')[0])\n",
    "print(id_grupo)\n",
    "#qc.delete_grupo(id_grupo, solo_sesiones=True)\n",
    "#qc.delete_grupo(id_grupo)"
   ]
  },
  {
   "cell_type": "code",
   "execution_count": 4,
   "id": "21de7427",
   "metadata": {},
   "outputs": [
    {
     "name": "stdout",
     "output_type": "stream",
     "text": [
      "([], 'transaccion_prestamos')\n",
      "([{'Transaccion_id': 17294}, {'Transaccion_id': 17304}, {'Transaccion_id': 17314}, {'Transaccion_id': 17324}, {'Transaccion_id': 17334}, {'Transaccion_id': 17344}, {'Transaccion_id': 17354}, {'Transaccion_id': 17364}, {'Transaccion_id': 17374}, {'Transaccion_id': 17384}], 'transacciones')\n",
      "DELETE from heroku_59f792929604e63.transacciones WHERE Transaccion_id in (17294, 17304, 17314, 17324, 17334, 17344, 17354, 17364, 17374, 17384)\n",
      "([], 'interes_prestamo')\n",
      "([{'Ganancias_id': 39014}, {'Ganancias_id': 39024}, {'Ganancias_id': 39034}, {'Ganancias_id': 39044}, {'Ganancias_id': 39054}, {'Ganancias_id': 39064}, {'Ganancias_id': 39074}, {'Ganancias_id': 39084}, {'Ganancias_id': 39094}, {'Ganancias_id': 39104}], 'ganancias')\n",
      "DELETE from heroku_59f792929604e63.ganancias WHERE Ganancias_id in (39014, 39024, 39034, 39044, 39054, 39064, 39074, 39084, 39094, 39104)\n",
      "([], 'multas')\n",
      "([], 'prestamos')\n",
      "([], 'prestamos')\n",
      "([{'Asistencia_id': 47874}, {'Asistencia_id': 47884}, {'Asistencia_id': 47894}, {'Asistencia_id': 47904}, {'Asistencia_id': 47914}, {'Asistencia_id': 47924}, {'Asistencia_id': 47934}, {'Asistencia_id': 47944}, {'Asistencia_id': 47954}, {'Asistencia_id': 47964}], 'asistencias')\n",
      "DELETE from heroku_59f792929604e63.asistencias WHERE Asistencia_id in (47874, 47884, 47894, 47904, 47914, 47924, 47934, 47944, 47954, 47964)\n",
      "([{'Sesion_id': 5584}], 'sesiones')\n",
      "DELETE from heroku_59f792929604e63.sesiones WHERE Sesion_id in (5584)\n",
      "([{'Acuerdo_id': 464}], 'acuerdos')\n",
      "DELETE from heroku_59f792929604e63.acuerdos WHERE Acuerdo_id in (464)\n",
      "([{'Grupo_socio_id': 4484}, {'Grupo_socio_id': 4494}, {'Grupo_socio_id': 4504}, {'Grupo_socio_id': 4514}, {'Grupo_socio_id': 4524}, {'Grupo_socio_id': 4534}, {'Grupo_socio_id': 4544}, {'Grupo_socio_id': 4554}, {'Grupo_socio_id': 4564}, {'Grupo_socio_id': 4574}], 'grupo_socio')\n",
      "DELETE from heroku_59f792929604e63.grupo_socio WHERE Grupo_socio_id in (4484, 4494, 4504, 4514, 4524, 4534, 4544, 4554, 4564, 4574)\n",
      "([{'Grupo_id': 1334}], 'grupos')\n",
      "DELETE from heroku_59f792929604e63.grupos WHERE Grupo_id in (1334)\n"
     ]
    }
   ],
   "source": [
    "qc.delete_grupo(id_grupo, force_delete=True)"
   ]
  },
  {
   "cell_type": "code",
   "execution_count": 11,
   "id": "53588faa",
   "metadata": {},
   "outputs": [],
   "source": [
    "now = datetime.now()\n",
    "log_date = now.strftime(\"%Y-%m-%d_%H_%M_%S\")\n",
    "log_file = pathlib.Path(config.log_dir, log_date+'CreacionGrupo.log')\n",
    "logging.basicConfig(filename=log_file, encoding='utf-8', level=logging.INFO)"
   ]
  },
  {
   "cell_type": "code",
   "execution_count": 5,
   "id": "0ed8719d",
   "metadata": {},
   "outputs": [
    {
     "name": "stderr",
     "output_type": "stream",
     "text": [
      "[2023-04-26 17:07:49,274][WARNING]: MySQL server has gone away. Reconnecting to the server.\n",
      "WARNING:datajoint:MySQL server has gone away. Reconnecting to the server.\n"
     ]
    }
   ],
   "source": [
    "mt.test_crear_grupo(xls_name)"
   ]
  },
  {
   "cell_type": "code",
   "execution_count": 8,
   "id": "a2d371be",
   "metadata": {},
   "outputs": [],
   "source": [
    "import time\n",
    "admin_header,_ = tca.CAF_API_general.login_first_user_excel(xls_name)\n",
    "\n",
    "tca.CAF_API_sessions_tester.create_session(id_grupo, admin_header)\n",
    "\n",
    "id_sesion = qc.get_active_sesion(id_grupo)\n",
    "\n",
    "time.sleep(0.1)\n",
    "tca.CAF_API_group_creation_tester.create_acuerdos(xls_name)\n",
    "time.sleep(0.1)\n",
    "tca.CAF_API_group_creation_tester.acciones_iniciales(xls_name, id_grupo, id_sesion)\n",
    "time.sleep(0.1)\n",
    "tca.CAF_API_sessions_tester.end_session(id_grupo, admin_header)"
   ]
  },
  {
   "cell_type": "code",
   "execution_count": null,
   "id": "463ac7bc",
   "metadata": {},
   "outputs": [],
   "source": []
  }
 ],
 "metadata": {
  "kernelspec": {
   "display_name": "cosecha_colectiva_env",
   "language": "python",
   "name": "python3"
  },
  "language_info": {
   "codemirror_mode": {
    "name": "ipython",
    "version": 3
   },
   "file_extension": ".py",
   "mimetype": "text/x-python",
   "name": "python",
   "nbconvert_exporter": "python",
   "pygments_lexer": "ipython3",
   "version": "3.9.12"
  },
  "vscode": {
   "interpreter": {
    "hash": "cdce1354676d05e6f6f63465f4a19b9f41e207b5ed2e5edccc9c3b7980cbdc99"
   }
  }
 },
 "nbformat": 4,
 "nbformat_minor": 5
}
