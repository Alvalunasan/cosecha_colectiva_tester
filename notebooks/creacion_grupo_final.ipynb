{
 "cells": [
  {
   "cell_type": "code",
   "execution_count": 1,
   "id": "352e1825",
   "metadata": {},
   "outputs": [
    {
     "name": "stdout",
     "output_type": "stream",
     "text": [
      "Local configuration file found !!, no need to run the configuration (unless configuration has changed)\n"
     ]
    },
    {
     "name": "stderr",
     "output_type": "stream",
     "text": [
      "[2023-05-21 18:41:02,937][INFO]: Connecting b3cf7edd2f8490@us-cdbr-east-06.cleardb.net:3306\n",
      "[2023-05-21 18:41:04,055][INFO]: Connected b3cf7edd2f8490@us-cdbr-east-06.cleardb.net:3306\n"
     ]
    }
   ],
   "source": [
    "from cosecha_colectiva import miscelaneous as m\n",
    "m.try_find_conf_file()\n",
    "\n",
    "\n",
    "from cosecha_colectiva import main_tester as mt\n",
    "from cosecha_colectiva import config\n",
    "from cosecha_colectiva import query_cosecha as qc\n",
    "from cosecha_colectiva import test_cosecha_api as tca\n",
    "\n",
    "import logging\n",
    "import pathlib\n",
    "from datetime import datetime"
   ]
  },
  {
   "cell_type": "code",
   "execution_count": 2,
   "id": "f70489ee",
   "metadata": {},
   "outputs": [],
   "source": [
    "xls_name = 'CAF_GrupoMesero.xlsx'\n",
    "xls_name = 'CAF_GrupoHidalgo.xlsx'\n",
    "xls_name = 'GrupoCafam.xlsx'"
   ]
  },
  {
   "cell_type": "code",
   "execution_count": 3,
   "id": "e0c328e8",
   "metadata": {},
   "outputs": [
    {
     "name": "stdout",
     "output_type": "stream",
     "text": [
      "1734\n"
     ]
    }
   ],
   "source": [
    "id_grupo = qc.get_grupo_id_by_name(xls_name.split('.')[0])\n",
    "print(id_grupo)\n",
    "#qc.delete_grupo(id_grupo, solo_sesiones=True)\n",
    "#qc.delete_grupo(id_grupo)"
   ]
  },
  {
   "cell_type": "code",
   "execution_count": 4,
   "id": "21de7427",
   "metadata": {},
   "outputs": [
    {
     "name": "stdout",
     "output_type": "stream",
     "text": [
      "([{'Transaccion_prestamo_id': 5124}, {'Transaccion_prestamo_id': 5134}, {'Transaccion_prestamo_id': 5144}, {'Transaccion_prestamo_id': 5154}, {'Transaccion_prestamo_id': 5164}, {'Transaccion_prestamo_id': 5174}, {'Transaccion_prestamo_id': 5184}], 'transaccion_prestamos')\n",
      "DELETE from heroku_59f792929604e63.transaccion_prestamos WHERE Transaccion_prestamo_id in (5124, 5134, 5144, 5154, 5164, 5174, 5184)\n",
      "([{'Transaccion_id': 21374}, {'Transaccion_id': 21384}, {'Transaccion_id': 21394}, {'Transaccion_id': 21404}, {'Transaccion_id': 21414}, {'Transaccion_id': 21424}, {'Transaccion_id': 21434}, {'Transaccion_id': 21444}, {'Transaccion_id': 21454}, {'Transaccion_id': 21464}, {'Transaccion_id': 21474}, {'Transaccion_id': 22304}, {'Transaccion_id': 22314}, {'Transaccion_id': 22324}, {'Transaccion_id': 22334}, {'Transaccion_id': 22344}, {'Transaccion_id': 22354}, {'Transaccion_id': 22364}, {'Transaccion_id': 22374}, {'Transaccion_id': 22384}, {'Transaccion_id': 22394}, {'Transaccion_id': 22404}, {'Transaccion_id': 22414}, {'Transaccion_id': 22424}, {'Transaccion_id': 22434}, {'Transaccion_id': 22444}], 'transacciones')\n",
      "DELETE from heroku_59f792929604e63.transacciones WHERE Transaccion_id in (21374, 21384, 21394, 21404, 21414, 21424, 21434, 21444, 21454, 21464, 21474, 22304, 22314, 22324, 22334, 22344, 22354, 22364, 22374, 22384, 22394, 22404, 22414, 22424, 22434, 22444)\n",
      "([{'Interes_prestamo_id': 5914}, {'Interes_prestamo_id': 5924}, {'Interes_prestamo_id': 5934}, {'Interes_prestamo_id': 5944}, {'Interes_prestamo_id': 5954}, {'Interes_prestamo_id': 5964}, {'Interes_prestamo_id': 5974}, {'Interes_prestamo_id': 5984}, {'Interes_prestamo_id': 5994}, {'Interes_prestamo_id': 6004}, {'Interes_prestamo_id': 6014}, {'Interes_prestamo_id': 6024}, {'Interes_prestamo_id': 6034}, {'Interes_prestamo_id': 6044}, {'Interes_prestamo_id': 6054}, {'Interes_prestamo_id': 6064}], 'interes_prestamo')\n",
      "DELETE from heroku_59f792929604e63.interes_prestamo WHERE Interes_prestamo_id in (5914, 5924, 5934, 5944, 5954, 5964, 5974, 5984, 5994, 6004, 6014, 6024, 6034, 6044, 6054, 6064)\n",
      "([{'Ganancias_id': 52704}, {'Ganancias_id': 52714}, {'Ganancias_id': 52724}, {'Ganancias_id': 52734}, {'Ganancias_id': 52744}, {'Ganancias_id': 52754}, {'Ganancias_id': 52764}, {'Ganancias_id': 52774}, {'Ganancias_id': 52784}, {'Ganancias_id': 52794}, {'Ganancias_id': 52804}, {'Ganancias_id': 54684}, {'Ganancias_id': 54694}, {'Ganancias_id': 54704}, {'Ganancias_id': 54714}, {'Ganancias_id': 54724}, {'Ganancias_id': 54734}, {'Ganancias_id': 54744}, {'Ganancias_id': 54754}, {'Ganancias_id': 54764}, {'Ganancias_id': 54774}, {'Ganancias_id': 54784}, {'Ganancias_id': 54794}, {'Ganancias_id': 54804}, {'Ganancias_id': 54814}, {'Ganancias_id': 54824}, {'Ganancias_id': 54834}, {'Ganancias_id': 54844}, {'Ganancias_id': 54854}, {'Ganancias_id': 54864}, {'Ganancias_id': 54874}, {'Ganancias_id': 54884}, {'Ganancias_id': 54894}, {'Ganancias_id': 54904}, {'Ganancias_id': 54914}, {'Ganancias_id': 54924}, {'Ganancias_id': 54934}, {'Ganancias_id': 54944}, {'Ganancias_id': 54954}, {'Ganancias_id': 54964}, {'Ganancias_id': 54974}, {'Ganancias_id': 54984}, {'Ganancias_id': 54994}, {'Ganancias_id': 55004}], 'ganancias')\n",
      "DELETE from heroku_59f792929604e63.ganancias WHERE Ganancias_id in (52704, 52714, 52724, 52734, 52744, 52754, 52764, 52774, 52784, 52794, 52804, 54684, 54694, 54704, 54714, 54724, 54734, 54744, 54754, 54764, 54774, 54784, 54794, 54804, 54814, 54824, 54834, 54844, 54854, 54864, 54874, 54884, 54894, 54904, 54914, 54924, 54934, 54944, 54954, 54964, 54974, 54984, 54994, 55004)\n",
      "([], 'multas')\n",
      "([], 'prestamos')\n",
      "([{'Prestamo_id': 3874}, {'Prestamo_id': 3884}, {'Prestamo_id': 3894}, {'Prestamo_id': 3904}, {'Prestamo_id': 3914}, {'Prestamo_id': 3924}, {'Prestamo_id': 3934}, {'Prestamo_id': 3944}], 'prestamos')\n",
      "DELETE from heroku_59f792929604e63.prestamos WHERE Prestamo_id in (3874, 3884, 3894, 3904, 3914, 3924, 3934, 3944)\n",
      "([{'Asistencia_id': 63874}, {'Asistencia_id': 63884}, {'Asistencia_id': 63894}, {'Asistencia_id': 63904}, {'Asistencia_id': 63914}, {'Asistencia_id': 63924}, {'Asistencia_id': 63934}, {'Asistencia_id': 63944}, {'Asistencia_id': 63954}, {'Asistencia_id': 63964}, {'Asistencia_id': 63974}, {'Asistencia_id': 67394}, {'Asistencia_id': 67404}, {'Asistencia_id': 67414}, {'Asistencia_id': 67424}, {'Asistencia_id': 67434}, {'Asistencia_id': 67444}, {'Asistencia_id': 67454}, {'Asistencia_id': 67464}, {'Asistencia_id': 67474}, {'Asistencia_id': 67484}, {'Asistencia_id': 67494}, {'Asistencia_id': 67504}, {'Asistencia_id': 67514}, {'Asistencia_id': 67524}, {'Asistencia_id': 67534}, {'Asistencia_id': 67544}, {'Asistencia_id': 67554}, {'Asistencia_id': 67564}, {'Asistencia_id': 67574}, {'Asistencia_id': 67584}, {'Asistencia_id': 67594}, {'Asistencia_id': 67604}, {'Asistencia_id': 67614}, {'Asistencia_id': 67624}, {'Asistencia_id': 67634}, {'Asistencia_id': 67644}, {'Asistencia_id': 67654}, {'Asistencia_id': 67664}, {'Asistencia_id': 67674}, {'Asistencia_id': 67684}, {'Asistencia_id': 67694}, {'Asistencia_id': 67704}, {'Asistencia_id': 67714}, {'Asistencia_id': 67724}, {'Asistencia_id': 67734}, {'Asistencia_id': 67744}, {'Asistencia_id': 67754}, {'Asistencia_id': 67764}, {'Asistencia_id': 67774}, {'Asistencia_id': 67784}, {'Asistencia_id': 67794}, {'Asistencia_id': 67804}, {'Asistencia_id': 67814}, {'Asistencia_id': 67824}], 'asistencias')\n",
      "DELETE from heroku_59f792929604e63.asistencias WHERE Asistencia_id in (63874, 63884, 63894, 63904, 63914, 63924, 63934, 63944, 63954, 63964, 63974, 67394, 67404, 67414, 67424, 67434, 67444, 67454, 67464, 67474, 67484, 67494, 67504, 67514, 67524, 67534, 67544, 67554, 67564, 67574, 67584, 67594, 67604, 67614, 67624, 67634, 67644, 67654, 67664, 67674, 67684, 67694, 67704, 67714, 67724, 67734, 67744, 67754, 67764, 67774, 67784, 67794, 67804, 67814, 67824)\n",
      "([{'Sesion_id': 7634}, {'Sesion_id': 7954}, {'Sesion_id': 7964}, {'Sesion_id': 7974}, {'Sesion_id': 7984}], 'sesiones')\n",
      "DELETE from heroku_59f792929604e63.sesiones WHERE Sesion_id in (7634, 7954, 7964, 7974, 7984)\n",
      "([{'Acuerdo_id': 584}, {'Acuerdo_id': 1294}, {'Acuerdo_id': 1304}, {'Acuerdo_id': 1314}, {'Acuerdo_id': 1324}, {'Acuerdo_id': 1334}], 'acuerdos')\n",
      "DELETE from heroku_59f792929604e63.acuerdos WHERE Acuerdo_id in (584, 1294, 1304, 1314, 1324, 1334)\n",
      "([{'Grupo_socio_id': 5984}, {'Grupo_socio_id': 5994}, {'Grupo_socio_id': 6004}, {'Grupo_socio_id': 6014}, {'Grupo_socio_id': 6024}, {'Grupo_socio_id': 6034}, {'Grupo_socio_id': 6044}, {'Grupo_socio_id': 6054}, {'Grupo_socio_id': 6064}, {'Grupo_socio_id': 6074}, {'Grupo_socio_id': 6084}], 'grupo_socio')\n",
      "DELETE from heroku_59f792929604e63.grupo_socio WHERE Grupo_socio_id in (5984, 5994, 6004, 6014, 6024, 6034, 6044, 6054, 6064, 6074, 6084)\n",
      "([{'Grupo_id': 1734}], 'grupos')\n",
      "DELETE from heroku_59f792929604e63.grupos WHERE Grupo_id in (1734)\n"
     ]
    }
   ],
   "source": [
    "qc.delete_grupo(id_grupo, force_delete=True)"
   ]
  },
  {
   "cell_type": "code",
   "execution_count": 5,
   "id": "53588faa",
   "metadata": {},
   "outputs": [],
   "source": [
    "now = datetime.now()\n",
    "log_date = now.strftime(\"%Y-%m-%d_%H_%M_%S\")\n",
    "log_file = pathlib.Path(config.log_dir, log_date+'CreacionGrupo.log')\n",
    "logging.basicConfig(filename=log_file, encoding='utf-8', level=logging.INFO)"
   ]
  },
  {
   "cell_type": "code",
   "execution_count": 6,
   "id": "0ed8719d",
   "metadata": {},
   "outputs": [
    {
     "name": "stderr",
     "output_type": "stream",
     "text": [
      "[2023-05-21 18:42:24,738][WARNING]: MySQL server has gone away. Reconnecting to the server.\n",
      "[2023-05-21 18:44:16,168][WARNING]: MySQL server has gone away. Reconnecting to the server.\n"
     ]
    }
   ],
   "source": [
    "mt.test_crear_grupo(xls_name)"
   ]
  },
  {
   "cell_type": "code",
   "execution_count": 8,
   "id": "a2d371be",
   "metadata": {},
   "outputs": [],
   "source": [
    "import time\n",
    "admin_header,_ = tca.CAF_API_general.login_first_user_excel(xls_name)\n",
    "\n",
    "tca.CAF_API_sessions_tester.create_session(id_grupo, admin_header)\n",
    "\n",
    "id_sesion = qc.get_active_sesion(id_grupo)\n",
    "\n",
    "time.sleep(0.1)\n",
    "tca.CAF_API_group_creation_tester.create_acuerdos(xls_name)\n",
    "time.sleep(0.1)\n",
    "tca.CAF_API_group_creation_tester.acciones_iniciales(xls_name, id_grupo, id_sesion)\n",
    "time.sleep(0.1)\n",
    "tca.CAF_API_sessions_tester.end_session(id_grupo, admin_header)"
   ]
  },
  {
   "cell_type": "code",
   "execution_count": null,
   "id": "463ac7bc",
   "metadata": {},
   "outputs": [],
   "source": []
  }
 ],
 "metadata": {
  "kernelspec": {
   "display_name": "cosecha_colectiva_env",
   "language": "python",
   "name": "python3"
  },
  "language_info": {
   "codemirror_mode": {
    "name": "ipython",
    "version": 3
   },
   "file_extension": ".py",
   "mimetype": "text/x-python",
   "name": "python",
   "nbconvert_exporter": "python",
   "pygments_lexer": "ipython3",
   "version": "3.9.12"
  },
  "vscode": {
   "interpreter": {
    "hash": "cdce1354676d05e6f6f63465f4a19b9f41e207b5ed2e5edccc9c3b7980cbdc99"
   }
  }
 },
 "nbformat": 4,
 "nbformat_minor": 5
}
