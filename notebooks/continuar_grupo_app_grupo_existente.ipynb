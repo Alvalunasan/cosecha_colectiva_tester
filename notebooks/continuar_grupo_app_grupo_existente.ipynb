{
 "cells": [
  {
   "cell_type": "code",
   "execution_count": 1,
   "id": "352e1825",
   "metadata": {},
   "outputs": [
    {
     "name": "stdout",
     "output_type": "stream",
     "text": [
      "Local configuration file found !!, no need to run the configuration (unless configuration has changed)\n"
     ]
    },
    {
     "name": "stderr",
     "output_type": "stream",
     "text": [
      "[2025-02-23 01:09:41,455][INFO]: Connecting root@junction.proxy.rlwy.net:19994\n",
      "[2025-02-23 01:09:42,801][INFO]: Connected root@junction.proxy.rlwy.net:19994\n"
     ]
    }
   ],
   "source": [
    "from cosecha_colectiva import miscelaneous as m\n",
    "m.try_find_conf_file()\n",
    "\n",
    "\n",
    "from cosecha_colectiva import main_tester as mt\n",
    "from cosecha_colectiva import config\n",
    "from cosecha_colectiva import query_cosecha as qc\n",
    "from cosecha_colectiva import test_cosecha_api as tca\n",
    "from cosecha_colectiva import CAF_DB_Monitor as CDM\n",
    "\n",
    "from cosecha_colectiva import miscelaneous as m\n",
    "\n",
    "import logging\n",
    "import pathlib\n",
    "from datetime import datetime"
   ]
  },
  {
   "cell_type": "code",
   "execution_count": 2,
   "id": "f70489ee",
   "metadata": {},
   "outputs": [],
   "source": [
    "xls_name = 'Alcancía Viva.xlsx'\n",
    "#xls_name = 'CAF_GrupoTest.xlsx'\n",
    "#xls_name = 'CAF_GrupoHidalgo.xlsx'\n",
    "#xls_name = 'GrupoCafam.xlsx'\n",
    "\n",
    "#xls_name = 'Yeiyei'"
   ]
  },
  {
   "cell_type": "code",
   "execution_count": 3,
   "id": "a7958f45",
   "metadata": {},
   "outputs": [
    {
     "data": {
      "text/plain": [
       "'Alcancía Viva.xlsx'"
      ]
     },
     "execution_count": 3,
     "metadata": {},
     "output_type": "execute_result"
    }
   ],
   "source": [
    "xls_name"
   ]
  },
  {
   "cell_type": "code",
   "execution_count": 4,
   "id": "e0c328e8",
   "metadata": {},
   "outputs": [
    {
     "name": "stdout",
     "output_type": "stream",
     "text": [
      "2574\n"
     ]
    }
   ],
   "source": [
    "id_grupo = qc.get_grupo_id_by_name(xls_name.split('.')[0])\n",
    "print(id_grupo)\n",
    "#qc.delete_grupo(id_grupo, solo_sesiones=True)\n",
    "#qc.delete_grupo(id_grupo)"
   ]
  },
  {
   "cell_type": "code",
   "execution_count": 5,
   "id": "1cc1a2bd",
   "metadata": {},
   "outputs": [
    {
     "name": "stdout",
     "output_type": "stream",
     "text": [
      "([], 'transaccion_prestamos')\n",
      "([{'Transaccion_id': 37984}, {'Transaccion_id': 37985}, {'Transaccion_id': 37986}, {'Transaccion_id': 37987}, {'Transaccion_id': 37988}, {'Transaccion_id': 37989}, {'Transaccion_id': 37990}], 'transacciones')\n",
      "DELETE from railway.transacciones WHERE Transaccion_id in (37984, 37985, 37986, 37987, 37988, 37989, 37990)\n",
      "([], 'interes_prestamo')\n",
      "([{'Ganancias_id': 79027}, {'Ganancias_id': 79028}, {'Ganancias_id': 79029}, {'Ganancias_id': 79030}, {'Ganancias_id': 79031}], 'ganancias')\n",
      "DELETE from railway.ganancias WHERE Ganancias_id in (79027, 79028, 79029, 79030, 79031)\n",
      "([{'Multa_id': 3452}], 'multas')\n",
      "DELETE from railway.multas WHERE Multa_id in (3452)\n",
      "([], 'prestamos')\n",
      "([{'Prestamo_id': 6262}, {'Prestamo_id': 6263}, {'Prestamo_id': 6264}], 'prestamos')\n",
      "DELETE from railway.prestamos WHERE Prestamo_id in (6262, 6263, 6264)\n",
      "([{'Asistencia_id': 136750}, {'Asistencia_id': 136751}, {'Asistencia_id': 136752}, {'Asistencia_id': 136753}, {'Asistencia_id': 136754}, {'Asistencia_id': 136755}, {'Asistencia_id': 136756}, {'Asistencia_id': 136757}, {'Asistencia_id': 136758}, {'Asistencia_id': 136759}], 'asistencias')\n",
      "DELETE from railway.asistencias WHERE Asistencia_id in (136750, 136751, 136752, 136753, 136754, 136755, 136756, 136757, 136758, 136759)\n",
      "([{'Sesion_id': 19614}, {'Sesion_id': 19615}], 'sesiones')\n",
      "DELETE from railway.sesiones WHERE Sesion_id in (19614, 19615)\n",
      "([], 'acuerdos')\n"
     ]
    }
   ],
   "source": [
    "qc.delete_grupo(id_grupo, solo_sesiones=True, force_delete=True, desde_sesion_0=True)\n",
    "\n",
    "\n",
    "#qc.restart_grupo_acciones(id_grupo)"
   ]
  },
  {
   "cell_type": "code",
   "execution_count": 6,
   "id": "53588faa",
   "metadata": {},
   "outputs": [],
   "source": [
    "now = datetime.now()\n",
    "log_date = now.strftime(\"%Y-%m-%d_%H_%M_%S\")\n",
    "log_file = pathlib.Path(config.log_dir, log_date+'CreacionGrupo.log')\n",
    "logging.basicConfig(filename=log_file, encoding='utf-8', level=logging.INFO)"
   ]
  },
  {
   "cell_type": "code",
   "execution_count": 7,
   "id": "463ac7bc",
   "metadata": {},
   "outputs": [],
   "source": [
    "monitor_grupo = CDM.CAF_DB_Monitor(id_grupo)"
   ]
  },
  {
   "cell_type": "code",
   "execution_count": 8,
   "id": "f91b4a6a",
   "metadata": {},
   "outputs": [
    {
     "data": {
      "text/html": [
       "<div>\n",
       "<style scoped>\n",
       "    .dataframe tbody tr th:only-of-type {\n",
       "        vertical-align: middle;\n",
       "    }\n",
       "\n",
       "    .dataframe tbody tr th {\n",
       "        vertical-align: top;\n",
       "    }\n",
       "\n",
       "    .dataframe thead th {\n",
       "        text-align: right;\n",
       "    }\n",
       "</style>\n",
       "<table border=\"1\" class=\"dataframe\">\n",
       "  <thead>\n",
       "    <tr style=\"text-align: right;\">\n",
       "      <th></th>\n",
       "      <th>Grupo_socio_id</th>\n",
       "      <th>Tipo_socio</th>\n",
       "      <th>Status</th>\n",
       "      <th>Acciones</th>\n",
       "      <th>Grupo_id</th>\n",
       "      <th>Socio_id</th>\n",
       "    </tr>\n",
       "  </thead>\n",
       "  <tbody>\n",
       "    <tr>\n",
       "      <th>0</th>\n",
       "      <td>8914</td>\n",
       "      <td>SOCIO</td>\n",
       "      <td>1</td>\n",
       "      <td>0</td>\n",
       "      <td>2574</td>\n",
       "      <td>2894</td>\n",
       "    </tr>\n",
       "    <tr>\n",
       "      <th>1</th>\n",
       "      <td>8904</td>\n",
       "      <td>SOCIO</td>\n",
       "      <td>1</td>\n",
       "      <td>0</td>\n",
       "      <td>2574</td>\n",
       "      <td>2904</td>\n",
       "    </tr>\n",
       "    <tr>\n",
       "      <th>2</th>\n",
       "      <td>8884</td>\n",
       "      <td>ADMIN</td>\n",
       "      <td>1</td>\n",
       "      <td>0</td>\n",
       "      <td>2574</td>\n",
       "      <td>2914</td>\n",
       "    </tr>\n",
       "    <tr>\n",
       "      <th>3</th>\n",
       "      <td>8894</td>\n",
       "      <td>SUPLENTE</td>\n",
       "      <td>1</td>\n",
       "      <td>0</td>\n",
       "      <td>2574</td>\n",
       "      <td>2924</td>\n",
       "    </tr>\n",
       "    <tr>\n",
       "      <th>4</th>\n",
       "      <td>8924</td>\n",
       "      <td>SOCIO</td>\n",
       "      <td>1</td>\n",
       "      <td>0</td>\n",
       "      <td>2574</td>\n",
       "      <td>2934</td>\n",
       "    </tr>\n",
       "  </tbody>\n",
       "</table>\n",
       "</div>"
      ],
      "text/plain": [
       "   Grupo_socio_id Tipo_socio  Status  Acciones  Grupo_id  Socio_id\n",
       "0            8914      SOCIO       1         0      2574      2894\n",
       "1            8904      SOCIO       1         0      2574      2904\n",
       "2            8884      ADMIN       1         0      2574      2914\n",
       "3            8894   SUPLENTE       1         0      2574      2924\n",
       "4            8924      SOCIO       1         0      2574      2934"
      ]
     },
     "execution_count": 8,
     "metadata": {},
     "output_type": "execute_result"
    }
   ],
   "source": [
    "monitor_grupo.socios_acciones"
   ]
  },
  {
   "cell_type": "code",
   "execution_count": 9,
   "id": "4db09b4c",
   "metadata": {},
   "outputs": [
    {
     "name": "stdout",
     "output_type": "stream",
     "text": [
      "month:  1\n",
      "df_prestamos\n",
      "     PRÉSTAMO AMPLIACIÓN NUM_SESIONES\n",
      "2894   [80.0]        [0]          [2]\n",
      "2924  [100.0]        [0]          [2]\n",
      "df_prestamos xxxxxxxxxxxxxx\n",
      "   Socio_id PRÉSTAMO AMPLIACIÓN NUM_SESIONES  Prestamo_id  Grupo_socio_id  \\\n",
      "0      2894     80.0          0            2           -1            8914   \n",
      "1      2924    100.0          0            2           -1            8894   \n",
      "\n",
      "   Grupo_id Tipo_socio  Acciones  Status  monto_total  num_prestamos  \\\n",
      "0      2574      SOCIO        50       1            0              0   \n",
      "1      2574   SUPLENTE        50       1            0              0   \n",
      "\n",
      "   Limite_credito_final  Limite_credito_teorico  puede_pedir_prestamo  \n",
      "0                   200                     200                  True  \n",
      "1                   200                     200                  True  \n",
      "tipo COMPRA_ACCIONES\n",
      "these_transactions\n",
      "      Cantidad_movimiento  Caja\n",
      "2894                   50    50\n",
      "2904                   50   100\n",
      "2914                   50   150\n",
      "2924                   50   200\n",
      "2934                   50   250\n",
      "current_caja 0\n",
      "month:  2\n",
      "df_abono\n",
      "             ABONO\n",
      "Prestamo_id       \n",
      "6265          82.5\n",
      "6266         103.0\n",
      "prestamos_activos\n",
      "            Monto_prestamo Monto_pagado Interes_generado Interes_pagado  \\\n",
      "Prestamo_id                                                               \n",
      "6265                  80.0            0              2.5              0   \n",
      "6266                 100.0            0              3.0              0   \n",
      "\n",
      "            Fecha_inicial Fecha_final Estatus_ampliacion  \\\n",
      "Prestamo_id                                                \n",
      "6265           2025-02-23  2025-04-23              False   \n",
      "6266           2025-02-23  2025-04-23              False   \n",
      "\n",
      "                                      Observaciones Num_sesiones  \\\n",
      "Prestamo_id                                                        \n",
      "6265         Préstamo generado en script automático            2   \n",
      "6266         Préstamo generado en script automático            2   \n",
      "\n",
      "            Sesiones_restantes  ... Interes_ampliacion Mod_calculo_interes  \\\n",
      "Prestamo_id                     ...                                          \n",
      "6265                         1  ...               None                   1   \n",
      "6266                         1  ...               None                   1   \n",
      "\n",
      "            Tasa_interes_prestamo_grande interes_futuro Ultimo_interes_pagado  \\\n",
      "Prestamo_id                                                                     \n",
      "6265                                 0.0            2.5                     0   \n",
      "6266                                 0.0            3.0                     0   \n",
      "\n",
      "            debe_interes sobrante_abono Ultimo_abono Status_socio  ABONO  \n",
      "Prestamo_id                                                               \n",
      "6265                   0              0            0            1   82.5  \n",
      "6266                   0              0            0            1  103.0  \n",
      "\n",
      "[2 rows x 31 columns]\n",
      "prestamos_activos 2 .........\n",
      "            Monto_prestamo Monto_pagado Interes_generado Interes_pagado  \\\n",
      "Prestamo_id                                                               \n",
      "6265                  80.0         80.0              2.5            2.5   \n",
      "6266                 100.0        100.0              3.0            3.0   \n",
      "\n",
      "            Fecha_inicial Fecha_final Estatus_ampliacion  \\\n",
      "Prestamo_id                                                \n",
      "6265           2025-02-23  2025-04-23              False   \n",
      "6266           2025-02-23  2025-04-23              False   \n",
      "\n",
      "                                      Observaciones Num_sesiones  \\\n",
      "Prestamo_id                                                        \n",
      "6265         Préstamo generado en script automático            2   \n",
      "6266         Préstamo generado en script automático            2   \n",
      "\n",
      "            Sesiones_restantes  ... Interes_ampliacion Mod_calculo_interes  \\\n",
      "Prestamo_id                     ...                                          \n",
      "6265                         1  ...               None                   1   \n",
      "6266                         1  ...               None                   1   \n",
      "\n",
      "            Tasa_interes_prestamo_grande interes_futuro Ultimo_interes_pagado  \\\n",
      "Prestamo_id                                                                     \n",
      "6265                                 0.0            2.5                   2.5   \n",
      "6266                                 0.0            3.0                   3.0   \n",
      "\n",
      "            debe_interes sobrante_abono Ultimo_abono Status_socio  ABONO  \n",
      "Prestamo_id                                                               \n",
      "6265                 2.5           80.0            0            1   82.5  \n",
      "6266                 3.0          100.0            0            1  103.0  \n",
      "\n",
      "[2 rows x 31 columns]\n",
      "prestamos_activos 3 xxxxxxxxx\n",
      "            Monto_prestamo Monto_pagado Interes_generado Interes_pagado  \\\n",
      "Prestamo_id                                                               \n",
      "6265                  80.0         80.0              2.5            2.5   \n",
      "6266                 100.0        100.0              3.0            3.0   \n",
      "\n",
      "            Fecha_inicial Fecha_final Estatus_ampliacion  \\\n",
      "Prestamo_id                                                \n",
      "6265           2025-02-23  2025-04-23              False   \n",
      "6266           2025-02-23  2025-04-23              False   \n",
      "\n",
      "                                      Observaciones Num_sesiones  \\\n",
      "Prestamo_id                                                        \n",
      "6265         Préstamo generado en script automático            2   \n",
      "6266         Préstamo generado en script automático            2   \n",
      "\n",
      "            Sesiones_restantes  ... Ampliacion_prestamos Interes_ampliacion  \\\n",
      "Prestamo_id                     ...                                           \n",
      "6265                         1  ...                    0               None   \n",
      "6266                         1  ...                    0               None   \n",
      "\n",
      "            Mod_calculo_interes Tasa_interes_prestamo_grande interes_futuro  \\\n",
      "Prestamo_id                                                                   \n",
      "6265                          1                          0.0            2.5   \n",
      "6266                          1                          0.0            3.0   \n",
      "\n",
      "            Ultimo_interes_pagado debe_interes sobrante_abono Ultimo_abono  \\\n",
      "Prestamo_id                                                                  \n",
      "6265                          2.5          2.5           80.0         82.5   \n",
      "6266                          3.0          3.0          100.0        103.0   \n",
      "\n",
      "            Status_socio  \n",
      "Prestamo_id               \n",
      "6265                   1  \n",
      "6266                   1  \n",
      "\n",
      "[2 rows x 30 columns]\n",
      "self.prestamos 1 ooooooooooooo\n",
      "            Monto_prestamo Monto_pagado Interes_generado Interes_pagado  \\\n",
      "Prestamo_id                                                               \n",
      "6265                  80.0            0              2.5              0   \n",
      "6266                 100.0            0              3.0              0   \n",
      "\n",
      "            Fecha_inicial Fecha_final Estatus_ampliacion  \\\n",
      "Prestamo_id                                                \n",
      "6265           2025-02-23  2025-04-23              False   \n",
      "6266           2025-02-23  2025-04-23              False   \n",
      "\n",
      "                                      Observaciones Num_sesiones  \\\n",
      "Prestamo_id                                                        \n",
      "6265         Préstamo generado en script automático            2   \n",
      "6266         Préstamo generado en script automático            2   \n",
      "\n",
      "            Sesiones_restantes  ... Ampliacion_prestamos Interes_ampliacion  \\\n",
      "Prestamo_id                     ...                                           \n",
      "6265                         1  ...                    0               None   \n",
      "6266                         1  ...                    0               None   \n",
      "\n",
      "            Mod_calculo_interes Tasa_interes_prestamo_grande interes_futuro  \\\n",
      "Prestamo_id                                                                   \n",
      "6265                          1                          0.0            2.5   \n",
      "6266                          1                          0.0            3.0   \n",
      "\n",
      "            Ultimo_interes_pagado debe_interes sobrante_abono Ultimo_abono  \\\n",
      "Prestamo_id                                                                  \n",
      "6265                            0            0              0            0   \n",
      "6266                            0            0              0            0   \n",
      "\n",
      "            Status_socio  \n",
      "Prestamo_id               \n",
      "6265                   1  \n",
      "6266                   1  \n",
      "\n",
      "[2 rows x 30 columns]\n",
      "self.prestamos\n",
      "   Prestamo_id Monto_prestamo Monto_pagado Interes_generado Interes_pagado  \\\n",
      "0         6265           80.0         80.0              2.5            2.5   \n",
      "1         6266          100.0        100.0              3.0            3.0   \n",
      "\n",
      "  Fecha_inicial Fecha_final Estatus_ampliacion  \\\n",
      "0    2025-02-23  2025-04-23              False   \n",
      "1    2025-02-23  2025-04-23              False   \n",
      "\n",
      "                            Observaciones Num_sesiones  ...  \\\n",
      "0  Préstamo generado en script automático            2  ...   \n",
      "1  Préstamo generado en script automático            2  ...   \n",
      "\n",
      "  Ampliacion_prestamos Interes_ampliacion Mod_calculo_interes  \\\n",
      "0                    0               None                   1   \n",
      "1                    0               None                   1   \n",
      "\n",
      "  Tasa_interes_prestamo_grande interes_futuro Ultimo_interes_pagado  \\\n",
      "0                          0.0            2.5                   2.5   \n",
      "1                          0.0            3.0                   3.0   \n",
      "\n",
      "  debe_interes sobrante_abono Ultimo_abono Status_socio  \n",
      "0          2.5           80.0         82.5            1  \n",
      "1          3.0          100.0        103.0            1  \n",
      "\n",
      "[2 rows x 31 columns]\n",
      "df_prestamos\n",
      "     PRÉSTAMO AMPLIACIÓN NUM_SESIONES\n",
      "2894  [100.0]        [0]          [6]\n",
      "2914  [100.0]        [0]          [6]\n",
      "df_prestamos xxxxxxxxxxxxxx\n",
      "   Socio_id PRÉSTAMO AMPLIACIÓN NUM_SESIONES Prestamo_id  Grupo_socio_id  \\\n",
      "0      2914    100.0          0            6         NaN            8884   \n",
      "1      2894    100.0          0            6        6265            8914   \n",
      "\n",
      "   Grupo_id Tipo_socio  Acciones  Status  monto_total  num_prestamos  \\\n",
      "0      2574      ADMIN       170       1          0.0            0.0   \n",
      "1      2574      SOCIO       120       1         80.0            1.0   \n",
      "\n",
      "   Limite_credito_final  Limite_credito_teorico  puede_pedir_prestamo  \n",
      "0                 680.0                     680                  True  \n",
      "1                 400.0                     480                 False  \n",
      "tipo COMPRA_ACCIONES\n",
      "these_transactions\n",
      "      Cantidad_movimiento  Caja\n",
      "2894                   70    70\n",
      "2904                   20    90\n",
      "2914                  120   210\n",
      "2924                   50   260\n",
      "2934                   50   310\n",
      "current_caja 70.0\n",
      "tipo ABONO\n",
      "these_transactions\n",
      "         Cantidad_movimiento           Caja\n",
      "Socio_id                                   \n",
      "2894                  [82.5]         [82.5]\n",
      "2924                 [103.0]  [82.5, 103.0]\n",
      "current_caja 380.0\n",
      "can only concatenate list (not \"float\") to list\n"
     ]
    },
    {
     "ename": "TypeError",
     "evalue": "can only concatenate list (not \"float\") to list",
     "output_type": "error",
     "traceback": [
      "\u001b[0;31m---------------------------------------------------------------------------\u001b[0m",
      "\u001b[0;31mTypeError\u001b[0m                                 Traceback (most recent call last)",
      "File \u001b[0;32m~/opt/anaconda3/envs/cosecha_colectiva_env/lib/python3.9/site-packages/pandas/core/ops/array_ops.py:163\u001b[0m, in \u001b[0;36m_na_arithmetic_op\u001b[0;34m(left, right, op, is_cmp)\u001b[0m\n\u001b[1;32m    162\u001b[0m \u001b[38;5;28;01mtry\u001b[39;00m:\n\u001b[0;32m--> 163\u001b[0m     result \u001b[38;5;241m=\u001b[39m \u001b[43mfunc\u001b[49m\u001b[43m(\u001b[49m\u001b[43mleft\u001b[49m\u001b[43m,\u001b[49m\u001b[43m \u001b[49m\u001b[43mright\u001b[49m\u001b[43m)\u001b[49m\n\u001b[1;32m    164\u001b[0m \u001b[38;5;28;01mexcept\u001b[39;00m \u001b[38;5;167;01mTypeError\u001b[39;00m:\n",
      "File \u001b[0;32m~/opt/anaconda3/envs/cosecha_colectiva_env/lib/python3.9/site-packages/pandas/core/computation/expressions.py:239\u001b[0m, in \u001b[0;36mevaluate\u001b[0;34m(op, a, b, use_numexpr)\u001b[0m\n\u001b[1;32m    237\u001b[0m     \u001b[38;5;28;01mif\u001b[39;00m use_numexpr:\n\u001b[1;32m    238\u001b[0m         \u001b[38;5;66;03m# error: \"None\" not callable\u001b[39;00m\n\u001b[0;32m--> 239\u001b[0m         \u001b[38;5;28;01mreturn\u001b[39;00m \u001b[43m_evaluate\u001b[49m\u001b[43m(\u001b[49m\u001b[43mop\u001b[49m\u001b[43m,\u001b[49m\u001b[43m \u001b[49m\u001b[43mop_str\u001b[49m\u001b[43m,\u001b[49m\u001b[43m \u001b[49m\u001b[43ma\u001b[49m\u001b[43m,\u001b[49m\u001b[43m \u001b[49m\u001b[43mb\u001b[49m\u001b[43m)\u001b[49m  \u001b[38;5;66;03m# type: ignore[misc]\u001b[39;00m\n\u001b[1;32m    240\u001b[0m \u001b[38;5;28;01mreturn\u001b[39;00m _evaluate_standard(op, op_str, a, b)\n",
      "File \u001b[0;32m~/opt/anaconda3/envs/cosecha_colectiva_env/lib/python3.9/site-packages/pandas/core/computation/expressions.py:69\u001b[0m, in \u001b[0;36m_evaluate_standard\u001b[0;34m(op, op_str, a, b)\u001b[0m\n\u001b[1;32m     68\u001b[0m     _store_test_result(\u001b[38;5;28;01mFalse\u001b[39;00m)\n\u001b[0;32m---> 69\u001b[0m \u001b[38;5;28;01mreturn\u001b[39;00m \u001b[43mop\u001b[49m\u001b[43m(\u001b[49m\u001b[43ma\u001b[49m\u001b[43m,\u001b[49m\u001b[43m \u001b[49m\u001b[43mb\u001b[49m\u001b[43m)\u001b[49m\n",
      "\u001b[0;31mTypeError\u001b[0m: can only concatenate list (not \"float\") to list",
      "\nDuring handling of the above exception, another exception occurred:\n",
      "\u001b[0;31mTypeError\u001b[0m                                 Traceback (most recent call last)",
      "Input \u001b[0;32mIn [9]\u001b[0m, in \u001b[0;36m<cell line: 4>\u001b[0;34m()\u001b[0m\n\u001b[1;32m     10\u001b[0m \u001b[38;5;28;01mexcept\u001b[39;00m \u001b[38;5;167;01mException\u001b[39;00m \u001b[38;5;28;01mas\u001b[39;00m e:\n\u001b[1;32m     11\u001b[0m     \u001b[38;5;28mprint\u001b[39m(e)\n\u001b[0;32m---> 12\u001b[0m     \u001b[38;5;28;01mraise\u001b[39;00m(e)\n\u001b[1;32m     13\u001b[0m     \u001b[38;5;28;01mbreak\u001b[39;00m\n",
      "Input \u001b[0;32mIn [9]\u001b[0m, in \u001b[0;36m<cell line: 4>\u001b[0;34m()\u001b[0m\n\u001b[1;32m      6\u001b[0m \u001b[38;5;28mprint\u001b[39m(\u001b[38;5;124m'\u001b[39m\u001b[38;5;124mmonth: \u001b[39m\u001b[38;5;124m'\u001b[39m, month)\n\u001b[1;32m      8\u001b[0m \u001b[38;5;28;01mtry\u001b[39;00m:\n\u001b[0;32m----> 9\u001b[0m     \u001b[43mmonitor_grupo\u001b[49m\u001b[38;5;241;43m.\u001b[39;49m\u001b[43mactualiza_todo_sesion\u001b[49m\u001b[43m(\u001b[49m\u001b[43mxls_name\u001b[49m\u001b[43m,\u001b[49m\u001b[43m \u001b[49m\u001b[43mmonth\u001b[49m\u001b[43m,\u001b[49m\u001b[43m \u001b[49m\u001b[43mtype_xls\u001b[49m\u001b[38;5;241;43m=\u001b[39;49m\u001b[38;5;124;43m'\u001b[39;49m\u001b[38;5;124;43mNEW\u001b[39;49m\u001b[38;5;124;43m'\u001b[39;49m\u001b[43m,\u001b[49m\u001b[43m \u001b[49m\u001b[43mbd_update\u001b[49m\u001b[38;5;241;43m=\u001b[39;49m\u001b[38;5;28;43;01mTrue\u001b[39;49;00m\u001b[43m)\u001b[49m\n\u001b[1;32m     10\u001b[0m \u001b[38;5;28;01mexcept\u001b[39;00m \u001b[38;5;167;01mException\u001b[39;00m \u001b[38;5;28;01mas\u001b[39;00m e:\n\u001b[1;32m     11\u001b[0m     \u001b[38;5;28mprint\u001b[39m(e)\n",
      "File \u001b[0;32m~/Documents/MATLAB/PersonalProjects/Cosecha_Colectiva/cosecha_colectiva/CAF_DB_Monitor.py:941\u001b[0m, in \u001b[0;36mCAF_DB_Monitor.actualiza_todo_sesion\u001b[0;34m(self, xls_name, session_num, type_xls, bd_update)\u001b[0m\n\u001b[1;32m    939\u001b[0m \u001b[38;5;66;03m# Enlista todas las transacciones de la sesion (table TRANSACCIONES)\u001b[39;00m\n\u001b[1;32m    940\u001b[0m \u001b[38;5;28mself\u001b[39m\u001b[38;5;241m.\u001b[39mappend_transacciones_bd(dict_session[\u001b[38;5;124m'\u001b[39m\u001b[38;5;124mCOMPRA_ACCIONES\u001b[39m\u001b[38;5;124m'\u001b[39m], tipo\u001b[38;5;241m=\u001b[39m\u001b[38;5;124m'\u001b[39m\u001b[38;5;124mCOMPRA_ACCIONES\u001b[39m\u001b[38;5;124m'\u001b[39m)\n\u001b[0;32m--> 941\u001b[0m \u001b[38;5;28;43mself\u001b[39;49m\u001b[38;5;241;43m.\u001b[39;49m\u001b[43mappend_transacciones_bd\u001b[49m\u001b[43m(\u001b[49m\u001b[43mdict_session\u001b[49m\u001b[43m[\u001b[49m\u001b[38;5;124;43m'\u001b[39;49m\u001b[38;5;124;43mABONO\u001b[39;49m\u001b[38;5;124;43m'\u001b[39;49m\u001b[43m]\u001b[49m\u001b[43m,\u001b[49m\u001b[43m \u001b[49m\u001b[43mtipo\u001b[49m\u001b[38;5;241;43m=\u001b[39;49m\u001b[38;5;124;43m'\u001b[39;49m\u001b[38;5;124;43mABONO\u001b[39;49m\u001b[38;5;124;43m'\u001b[39;49m\u001b[43m)\u001b[49m\n\u001b[1;32m    942\u001b[0m \u001b[38;5;66;03m#self.append_transacciones_pago_prestamo_bd(dict_session['ABONO'])\u001b[39;00m\n\u001b[1;32m    943\u001b[0m \u001b[38;5;28mself\u001b[39m\u001b[38;5;241m.\u001b[39mappend_transacciones_entrega_prestamo_bd()\n",
      "File \u001b[0;32m~/Documents/MATLAB/PersonalProjects/Cosecha_Colectiva/cosecha_colectiva/CAF_DB_Monitor.py:761\u001b[0m, in \u001b[0;36mCAF_DB_Monitor.append_transacciones_bd\u001b[0;34m(self, df_transacciones, tipo)\u001b[0m\n\u001b[1;32m    758\u001b[0m \u001b[38;5;28mprint\u001b[39m(these_transactions)\n\u001b[1;32m    759\u001b[0m \u001b[38;5;28mprint\u001b[39m(\u001b[38;5;124m'\u001b[39m\u001b[38;5;124mcurrent_caja\u001b[39m\u001b[38;5;124m'\u001b[39m, current_caja)\n\u001b[0;32m--> 761\u001b[0m these_transactions[\u001b[38;5;124m'\u001b[39m\u001b[38;5;124mCaja\u001b[39m\u001b[38;5;124m'\u001b[39m] \u001b[38;5;241m+\u001b[39m\u001b[38;5;241m=\u001b[39m current_caja\n\u001b[1;32m    762\u001b[0m these_transactions[\u001b[38;5;124m'\u001b[39m\u001b[38;5;124mTimestamp\u001b[39m\u001b[38;5;124m'\u001b[39m] \u001b[38;5;241m=\u001b[39m datetime\u001b[38;5;241m.\u001b[39mstrftime(datetime\u001b[38;5;241m.\u001b[39mnow(), \u001b[38;5;28mformat\u001b[39m\u001b[38;5;241m=\u001b[39m\u001b[38;5;124m'\u001b[39m\u001b[38;5;124m%\u001b[39m\u001b[38;5;124mY-\u001b[39m\u001b[38;5;124m%\u001b[39m\u001b[38;5;124mm-\u001b[39m\u001b[38;5;132;01m%d\u001b[39;00m\u001b[38;5;124m \u001b[39m\u001b[38;5;124m%\u001b[39m\u001b[38;5;124mH:\u001b[39m\u001b[38;5;124m%\u001b[39m\u001b[38;5;124mM:\u001b[39m\u001b[38;5;124m%\u001b[39m\u001b[38;5;124mS\u001b[39m\u001b[38;5;124m'\u001b[39m)\n\u001b[1;32m    763\u001b[0m these_transactions[\u001b[38;5;124m'\u001b[39m\u001b[38;5;124mSesion_id\u001b[39m\u001b[38;5;124m'\u001b[39m] \u001b[38;5;241m=\u001b[39m \u001b[38;5;28mself\u001b[39m\u001b[38;5;241m.\u001b[39msesiones_bd\u001b[38;5;241m.\u001b[39mloc[\u001b[38;5;28mself\u001b[39m\u001b[38;5;241m.\u001b[39msesiones_bd\u001b[38;5;241m.\u001b[39mshape[\u001b[38;5;241m0\u001b[39m]\u001b[38;5;241m-\u001b[39m\u001b[38;5;241m1\u001b[39m, \u001b[38;5;124m'\u001b[39m\u001b[38;5;124mSesion_id\u001b[39m\u001b[38;5;124m'\u001b[39m]\n",
      "File \u001b[0;32m~/opt/anaconda3/envs/cosecha_colectiva_env/lib/python3.9/site-packages/pandas/core/generic.py:11367\u001b[0m, in \u001b[0;36mNDFrame.__iadd__\u001b[0;34m(self, other)\u001b[0m\n\u001b[1;32m  11365\u001b[0m \u001b[38;5;28;01mdef\u001b[39;00m \u001b[38;5;21m__iadd__\u001b[39m(\u001b[38;5;28mself\u001b[39m, other):\n\u001b[1;32m  11366\u001b[0m     \u001b[38;5;66;03m# error: Unsupported left operand type for + (\"Type[NDFrame]\")\u001b[39;00m\n\u001b[0;32m> 11367\u001b[0m     \u001b[38;5;28;01mreturn\u001b[39;00m \u001b[38;5;28;43mself\u001b[39;49m\u001b[38;5;241;43m.\u001b[39;49m\u001b[43m_inplace_method\u001b[49m\u001b[43m(\u001b[49m\u001b[43mother\u001b[49m\u001b[43m,\u001b[49m\u001b[43m \u001b[49m\u001b[38;5;28;43mtype\u001b[39;49m\u001b[43m(\u001b[49m\u001b[38;5;28;43mself\u001b[39;49m\u001b[43m)\u001b[49m\u001b[38;5;241;43m.\u001b[39;49m\u001b[38;5;21;43m__add__\u001b[39;49m\u001b[43m)\u001b[49m\n",
      "File \u001b[0;32m~/opt/anaconda3/envs/cosecha_colectiva_env/lib/python3.9/site-packages/pandas/core/generic.py:11344\u001b[0m, in \u001b[0;36mNDFrame._inplace_method\u001b[0;34m(self, other, op)\u001b[0m\n\u001b[1;32m  11339\u001b[0m \u001b[38;5;129m@final\u001b[39m\n\u001b[1;32m  11340\u001b[0m \u001b[38;5;28;01mdef\u001b[39;00m \u001b[38;5;21m_inplace_method\u001b[39m(\u001b[38;5;28mself\u001b[39m, other, op):\n\u001b[1;32m  11341\u001b[0m     \u001b[38;5;124;03m\"\"\"\u001b[39;00m\n\u001b[1;32m  11342\u001b[0m \u001b[38;5;124;03m    Wrap arithmetic method to operate inplace.\u001b[39;00m\n\u001b[1;32m  11343\u001b[0m \u001b[38;5;124;03m    \"\"\"\u001b[39;00m\n\u001b[0;32m> 11344\u001b[0m     result \u001b[38;5;241m=\u001b[39m \u001b[43mop\u001b[49m\u001b[43m(\u001b[49m\u001b[38;5;28;43mself\u001b[39;49m\u001b[43m,\u001b[49m\u001b[43m \u001b[49m\u001b[43mother\u001b[49m\u001b[43m)\u001b[49m\n\u001b[1;32m  11346\u001b[0m     \u001b[38;5;28;01mif\u001b[39;00m (\n\u001b[1;32m  11347\u001b[0m         \u001b[38;5;28mself\u001b[39m\u001b[38;5;241m.\u001b[39mndim \u001b[38;5;241m==\u001b[39m \u001b[38;5;241m1\u001b[39m\n\u001b[1;32m  11348\u001b[0m         \u001b[38;5;129;01mand\u001b[39;00m result\u001b[38;5;241m.\u001b[39m_indexed_same(\u001b[38;5;28mself\u001b[39m)\n\u001b[1;32m  11349\u001b[0m         \u001b[38;5;129;01mand\u001b[39;00m is_dtype_equal(result\u001b[38;5;241m.\u001b[39mdtype, \u001b[38;5;28mself\u001b[39m\u001b[38;5;241m.\u001b[39mdtype)\n\u001b[1;32m  11350\u001b[0m     ):\n\u001b[1;32m  11351\u001b[0m         \u001b[38;5;66;03m# GH#36498 this inplace op can _actually_ be inplace.\u001b[39;00m\n\u001b[1;32m  11352\u001b[0m         \u001b[38;5;28mself\u001b[39m\u001b[38;5;241m.\u001b[39m_values[:] \u001b[38;5;241m=\u001b[39m result\u001b[38;5;241m.\u001b[39m_values\n",
      "File \u001b[0;32m~/opt/anaconda3/envs/cosecha_colectiva_env/lib/python3.9/site-packages/pandas/core/ops/common.py:70\u001b[0m, in \u001b[0;36m_unpack_zerodim_and_defer.<locals>.new_method\u001b[0;34m(self, other)\u001b[0m\n\u001b[1;32m     66\u001b[0m             \u001b[38;5;28;01mreturn\u001b[39;00m \u001b[38;5;28mNotImplemented\u001b[39m\n\u001b[1;32m     68\u001b[0m other \u001b[38;5;241m=\u001b[39m item_from_zerodim(other)\n\u001b[0;32m---> 70\u001b[0m \u001b[38;5;28;01mreturn\u001b[39;00m \u001b[43mmethod\u001b[49m\u001b[43m(\u001b[49m\u001b[38;5;28;43mself\u001b[39;49m\u001b[43m,\u001b[49m\u001b[43m \u001b[49m\u001b[43mother\u001b[49m\u001b[43m)\u001b[49m\n",
      "File \u001b[0;32m~/opt/anaconda3/envs/cosecha_colectiva_env/lib/python3.9/site-packages/pandas/core/arraylike.py:100\u001b[0m, in \u001b[0;36mOpsMixin.__add__\u001b[0;34m(self, other)\u001b[0m\n\u001b[1;32m     98\u001b[0m \u001b[38;5;129m@unpack_zerodim_and_defer\u001b[39m(\u001b[38;5;124m\"\u001b[39m\u001b[38;5;124m__add__\u001b[39m\u001b[38;5;124m\"\u001b[39m)\n\u001b[1;32m     99\u001b[0m \u001b[38;5;28;01mdef\u001b[39;00m \u001b[38;5;21m__add__\u001b[39m(\u001b[38;5;28mself\u001b[39m, other):\n\u001b[0;32m--> 100\u001b[0m     \u001b[38;5;28;01mreturn\u001b[39;00m \u001b[38;5;28;43mself\u001b[39;49m\u001b[38;5;241;43m.\u001b[39;49m\u001b[43m_arith_method\u001b[49m\u001b[43m(\u001b[49m\u001b[43mother\u001b[49m\u001b[43m,\u001b[49m\u001b[43m \u001b[49m\u001b[43moperator\u001b[49m\u001b[38;5;241;43m.\u001b[39;49m\u001b[43madd\u001b[49m\u001b[43m)\u001b[49m\n",
      "File \u001b[0;32m~/opt/anaconda3/envs/cosecha_colectiva_env/lib/python3.9/site-packages/pandas/core/series.py:5639\u001b[0m, in \u001b[0;36mSeries._arith_method\u001b[0;34m(self, other, op)\u001b[0m\n\u001b[1;32m   5637\u001b[0m \u001b[38;5;28;01mdef\u001b[39;00m \u001b[38;5;21m_arith_method\u001b[39m(\u001b[38;5;28mself\u001b[39m, other, op):\n\u001b[1;32m   5638\u001b[0m     \u001b[38;5;28mself\u001b[39m, other \u001b[38;5;241m=\u001b[39m ops\u001b[38;5;241m.\u001b[39malign_method_SERIES(\u001b[38;5;28mself\u001b[39m, other)\n\u001b[0;32m-> 5639\u001b[0m     \u001b[38;5;28;01mreturn\u001b[39;00m \u001b[43mbase\u001b[49m\u001b[38;5;241;43m.\u001b[39;49m\u001b[43mIndexOpsMixin\u001b[49m\u001b[38;5;241;43m.\u001b[39;49m\u001b[43m_arith_method\u001b[49m\u001b[43m(\u001b[49m\u001b[38;5;28;43mself\u001b[39;49m\u001b[43m,\u001b[49m\u001b[43m \u001b[49m\u001b[43mother\u001b[49m\u001b[43m,\u001b[49m\u001b[43m \u001b[49m\u001b[43mop\u001b[49m\u001b[43m)\u001b[49m\n",
      "File \u001b[0;32m~/opt/anaconda3/envs/cosecha_colectiva_env/lib/python3.9/site-packages/pandas/core/base.py:1295\u001b[0m, in \u001b[0;36mIndexOpsMixin._arith_method\u001b[0;34m(self, other, op)\u001b[0m\n\u001b[1;32m   1292\u001b[0m rvalues \u001b[38;5;241m=\u001b[39m ensure_wrapped_if_datetimelike(rvalues)\n\u001b[1;32m   1294\u001b[0m \u001b[38;5;28;01mwith\u001b[39;00m np\u001b[38;5;241m.\u001b[39merrstate(\u001b[38;5;28mall\u001b[39m\u001b[38;5;241m=\u001b[39m\u001b[38;5;124m\"\u001b[39m\u001b[38;5;124mignore\u001b[39m\u001b[38;5;124m\"\u001b[39m):\n\u001b[0;32m-> 1295\u001b[0m     result \u001b[38;5;241m=\u001b[39m \u001b[43mops\u001b[49m\u001b[38;5;241;43m.\u001b[39;49m\u001b[43marithmetic_op\u001b[49m\u001b[43m(\u001b[49m\u001b[43mlvalues\u001b[49m\u001b[43m,\u001b[49m\u001b[43m \u001b[49m\u001b[43mrvalues\u001b[49m\u001b[43m,\u001b[49m\u001b[43m \u001b[49m\u001b[43mop\u001b[49m\u001b[43m)\u001b[49m\n\u001b[1;32m   1297\u001b[0m \u001b[38;5;28;01mreturn\u001b[39;00m \u001b[38;5;28mself\u001b[39m\u001b[38;5;241m.\u001b[39m_construct_result(result, name\u001b[38;5;241m=\u001b[39mres_name)\n",
      "File \u001b[0;32m~/opt/anaconda3/envs/cosecha_colectiva_env/lib/python3.9/site-packages/pandas/core/ops/array_ops.py:222\u001b[0m, in \u001b[0;36marithmetic_op\u001b[0;34m(left, right, op)\u001b[0m\n\u001b[1;32m    217\u001b[0m \u001b[38;5;28;01melse\u001b[39;00m:\n\u001b[1;32m    218\u001b[0m     \u001b[38;5;66;03m# TODO we should handle EAs consistently and move this check before the if/else\u001b[39;00m\n\u001b[1;32m    219\u001b[0m     \u001b[38;5;66;03m# (https://github.com/pandas-dev/pandas/issues/41165)\u001b[39;00m\n\u001b[1;32m    220\u001b[0m     _bool_arith_check(op, left, right)\n\u001b[0;32m--> 222\u001b[0m     res_values \u001b[38;5;241m=\u001b[39m \u001b[43m_na_arithmetic_op\u001b[49m\u001b[43m(\u001b[49m\u001b[43mleft\u001b[49m\u001b[43m,\u001b[49m\u001b[43m \u001b[49m\u001b[43mright\u001b[49m\u001b[43m,\u001b[49m\u001b[43m \u001b[49m\u001b[43mop\u001b[49m\u001b[43m)\u001b[49m\n\u001b[1;32m    224\u001b[0m \u001b[38;5;28;01mreturn\u001b[39;00m res_values\n",
      "File \u001b[0;32m~/opt/anaconda3/envs/cosecha_colectiva_env/lib/python3.9/site-packages/pandas/core/ops/array_ops.py:170\u001b[0m, in \u001b[0;36m_na_arithmetic_op\u001b[0;34m(left, right, op, is_cmp)\u001b[0m\n\u001b[1;32m    164\u001b[0m \u001b[38;5;28;01mexcept\u001b[39;00m \u001b[38;5;167;01mTypeError\u001b[39;00m:\n\u001b[1;32m    165\u001b[0m     \u001b[38;5;28;01mif\u001b[39;00m \u001b[38;5;129;01mnot\u001b[39;00m is_cmp \u001b[38;5;129;01mand\u001b[39;00m (is_object_dtype(left\u001b[38;5;241m.\u001b[39mdtype) \u001b[38;5;129;01mor\u001b[39;00m is_object_dtype(right)):\n\u001b[1;32m    166\u001b[0m         \u001b[38;5;66;03m# For object dtype, fallback to a masked operation (only operating\u001b[39;00m\n\u001b[1;32m    167\u001b[0m         \u001b[38;5;66;03m#  on the non-missing values)\u001b[39;00m\n\u001b[1;32m    168\u001b[0m         \u001b[38;5;66;03m# Don't do this for comparisons, as that will handle complex numbers\u001b[39;00m\n\u001b[1;32m    169\u001b[0m         \u001b[38;5;66;03m#  incorrectly, see GH#32047\u001b[39;00m\n\u001b[0;32m--> 170\u001b[0m         result \u001b[38;5;241m=\u001b[39m \u001b[43m_masked_arith_op\u001b[49m\u001b[43m(\u001b[49m\u001b[43mleft\u001b[49m\u001b[43m,\u001b[49m\u001b[43m \u001b[49m\u001b[43mright\u001b[49m\u001b[43m,\u001b[49m\u001b[43m \u001b[49m\u001b[43mop\u001b[49m\u001b[43m)\u001b[49m\n\u001b[1;32m    171\u001b[0m     \u001b[38;5;28;01melse\u001b[39;00m:\n\u001b[1;32m    172\u001b[0m         \u001b[38;5;28;01mraise\u001b[39;00m\n",
      "File \u001b[0;32m~/opt/anaconda3/envs/cosecha_colectiva_env/lib/python3.9/site-packages/pandas/core/ops/array_ops.py:127\u001b[0m, in \u001b[0;36m_masked_arith_op\u001b[0;34m(x, y, op)\u001b[0m\n\u001b[1;32m    124\u001b[0m         mask \u001b[38;5;241m=\u001b[39m np\u001b[38;5;241m.\u001b[39mwhere(y \u001b[38;5;241m==\u001b[39m \u001b[38;5;241m1\u001b[39m, \u001b[38;5;28;01mFalse\u001b[39;00m, mask)\n\u001b[1;32m    126\u001b[0m     \u001b[38;5;28;01mif\u001b[39;00m mask\u001b[38;5;241m.\u001b[39many():\n\u001b[0;32m--> 127\u001b[0m         result[mask] \u001b[38;5;241m=\u001b[39m \u001b[43mop\u001b[49m\u001b[43m(\u001b[49m\u001b[43mxrav\u001b[49m\u001b[43m[\u001b[49m\u001b[43mmask\u001b[49m\u001b[43m]\u001b[49m\u001b[43m,\u001b[49m\u001b[43m \u001b[49m\u001b[43my\u001b[49m\u001b[43m)\u001b[49m\n\u001b[1;32m    129\u001b[0m np\u001b[38;5;241m.\u001b[39mputmask(result, \u001b[38;5;241m~\u001b[39mmask, np\u001b[38;5;241m.\u001b[39mnan)\n\u001b[1;32m    130\u001b[0m result \u001b[38;5;241m=\u001b[39m result\u001b[38;5;241m.\u001b[39mreshape(x\u001b[38;5;241m.\u001b[39mshape)  \u001b[38;5;66;03m# 2D compat\u001b[39;00m\n",
      "\u001b[0;31mTypeError\u001b[0m: can only concatenate list (not \"float\") to list"
     ]
    }
   ],
   "source": [
    "start_month = 1\n",
    "end_month = 2\n",
    "\n",
    "for month in range(start_month, end_month+1):\n",
    "\n",
    "    print('month: ', month)\n",
    "\n",
    "    try:\n",
    "        monitor_grupo.actualiza_todo_sesion(xls_name, month, type_xls='NEW', bd_update=True)\n",
    "    except Exception as e:\n",
    "        print(e)\n",
    "        raise(e)\n",
    "        break"
   ]
  },
  {
   "cell_type": "code",
   "execution_count": 12,
   "id": "85acfa74",
   "metadata": {},
   "outputs": [
    {
     "data": {
      "text/plain": [
       "Prestamo_id                                                     6265.0\n",
       "Monto_prestamo                                                    80.0\n",
       "Monto_pagado                                                      80.0\n",
       "Interes_generado                                                   2.5\n",
       "Interes_pagado                                                     2.5\n",
       "Fecha_inicial                                               2025-02-23\n",
       "Fecha_final                                                 2025-04-23\n",
       "Estatus_ampliacion                                               False\n",
       "Observaciones                   Préstamo generado en script automático\n",
       "Num_sesiones                                                         2\n",
       "Sesiones_restantes                                                   1\n",
       "Estatus_prestamo                                                     1\n",
       "Socio_id                                                          2894\n",
       "Sesion_id                                                        19616\n",
       "Acuerdos_id                                                       2204\n",
       "Prestamo_original_id                                              None\n",
       "Grupo_id                                                          2574\n",
       "Tasa_interes                                                       3.0\n",
       "Limite_credito                                                       4\n",
       "Creditos_simultaneos                                                 1\n",
       "Interes_morosidad                                                  1.0\n",
       "Ampliacion_prestamos                                                 0\n",
       "Interes_ampliacion                                                None\n",
       "Mod_calculo_interes                                                  1\n",
       "Tasa_interes_prestamo_grande                                       0.0\n",
       "interes_futuro                                                     2.5\n",
       "Ultimo_interes_pagado                                              2.5\n",
       "debe_interes                                                       2.5\n",
       "sobrante_abono                                                    80.0\n",
       "Ultimo_abono                                                      82.5\n",
       "Status_socio                                                         1\n",
       "Name: 0, dtype: object"
      ]
     },
     "execution_count": 12,
     "metadata": {},
     "output_type": "execute_result"
    }
   ],
   "source": [
    "monitor_grupo.prestamos.loc[0,:]"
   ]
  },
  {
   "cell_type": "code",
   "execution_count": null,
   "id": "aa54844c",
   "metadata": {},
   "outputs": [
    {
     "data": {
      "text/plain": [
       "['Prestamo_id',\n",
       " 'Monto_prestamo',\n",
       " 'Monto_pagado',\n",
       " 'Interes_generado',\n",
       " 'Interes_pagado',\n",
       " 'Fecha_inicial',\n",
       " 'Fecha_final',\n",
       " 'Estatus_ampliacion',\n",
       " 'Observaciones',\n",
       " 'Num_sesiones',\n",
       " 'Sesiones_restantes',\n",
       " 'Estatus_prestamo',\n",
       " 'Socio_id',\n",
       " 'Sesion_id',\n",
       " 'Acuerdos_id',\n",
       " 'Prestamo_original_id']"
      ]
     },
     "execution_count": 11,
     "metadata": {},
     "output_type": "execute_result"
    }
   ],
   "source": [
    "config.bd_columnas_prestamo"
   ]
  },
  {
   "cell_type": "code",
   "execution_count": null,
   "id": "dc0f4912",
   "metadata": {},
   "outputs": [
    {
     "ename": "AttributeError",
     "evalue": "'CAF_DB_Monitor' object has no attribute 'df_acciones'",
     "output_type": "error",
     "traceback": [
      "\u001b[0;31m---------------------------------------------------------------------------\u001b[0m",
      "\u001b[0;31mAttributeError\u001b[0m                            Traceback (most recent call last)",
      "Input \u001b[0;32mIn [12]\u001b[0m, in \u001b[0;36m<cell line: 1>\u001b[0;34m()\u001b[0m\n\u001b[0;32m----> 1\u001b[0m woro \u001b[38;5;241m=\u001b[39m \u001b[43mmonitor_grupo\u001b[49m\u001b[38;5;241;43m.\u001b[39;49m\u001b[43mdf_acciones\u001b[49m\u001b[38;5;241m.\u001b[39mcopy()\n",
      "\u001b[0;31mAttributeError\u001b[0m: 'CAF_DB_Monitor' object has no attribute 'df_acciones'"
     ]
    }
   ],
   "source": [
    "woro = monitor_grupo.df_acciones.copy()"
   ]
  },
  {
   "cell_type": "code",
   "execution_count": null,
   "id": "6995f5a3",
   "metadata": {},
   "outputs": [],
   "source": [
    "woro = woro.rename(columns={'COMPRA_ACCIONES': 'Cantidad_movimiento'})\n",
    "woro['Caja'] = woro['Cantidad_movimiento'].cumsum()\n",
    "woro['Caja'] += monitor_grupo.sesiones_bd.loc[monitor_grupo.sesiones_bd.shape[0]-1, 'Caja']\n",
    "woro['Timestamp'] = datetime.strftime(datetime.now(), format='%Y-%m-%d %H:%M:%S')\n",
    "woro['Sesion_id'] = monitor_grupo.sesiones_bd.loc[monitor_grupo.sesiones_bd.shape[0]-1, 'Sesion_id']\n",
    "woro = woro.reset_index(drop=False)\n",
    "woro = woro.rename(columns={'index': 'Socio_id'})\n",
    "woro['Acuerdo_id'] = monitor_grupo.acuerdos['Acuerdo_id']\n",
    "woro['Catalogo_id'] = 'COMPRA_ACCION'"
   ]
  },
  {
   "cell_type": "code",
   "execution_count": null,
   "id": "c0d31081",
   "metadata": {},
   "outputs": [
    {
     "data": {
      "text/html": [
       "<div>\n",
       "<style scoped>\n",
       "    .dataframe tbody tr th:only-of-type {\n",
       "        vertical-align: middle;\n",
       "    }\n",
       "\n",
       "    .dataframe tbody tr th {\n",
       "        vertical-align: top;\n",
       "    }\n",
       "\n",
       "    .dataframe thead th {\n",
       "        text-align: right;\n",
       "    }\n",
       "</style>\n",
       "<table border=\"1\" class=\"dataframe\">\n",
       "  <thead>\n",
       "    <tr style=\"text-align: right;\">\n",
       "      <th></th>\n",
       "      <th>Socio_id</th>\n",
       "      <th>Socio_id</th>\n",
       "      <th>Cantidad_movimiento</th>\n",
       "      <th>Caja</th>\n",
       "      <th>Timestamp</th>\n",
       "      <th>Sesion_id</th>\n",
       "      <th>Acuerdo_id</th>\n",
       "    </tr>\n",
       "  </thead>\n",
       "  <tbody>\n",
       "    <tr>\n",
       "      <th>0</th>\n",
       "      <td>0</td>\n",
       "      <td>2894</td>\n",
       "      <td>50</td>\n",
       "      <td>50</td>\n",
       "      <td>2025-02-22 13:37:58</td>\n",
       "      <td>19565</td>\n",
       "      <td>2204</td>\n",
       "    </tr>\n",
       "    <tr>\n",
       "      <th>1</th>\n",
       "      <td>1</td>\n",
       "      <td>2904</td>\n",
       "      <td>50</td>\n",
       "      <td>100</td>\n",
       "      <td>2025-02-22 13:37:58</td>\n",
       "      <td>19565</td>\n",
       "      <td>2204</td>\n",
       "    </tr>\n",
       "    <tr>\n",
       "      <th>2</th>\n",
       "      <td>2</td>\n",
       "      <td>2914</td>\n",
       "      <td>50</td>\n",
       "      <td>150</td>\n",
       "      <td>2025-02-22 13:37:58</td>\n",
       "      <td>19565</td>\n",
       "      <td>2204</td>\n",
       "    </tr>\n",
       "    <tr>\n",
       "      <th>3</th>\n",
       "      <td>3</td>\n",
       "      <td>2924</td>\n",
       "      <td>50</td>\n",
       "      <td>200</td>\n",
       "      <td>2025-02-22 13:37:58</td>\n",
       "      <td>19565</td>\n",
       "      <td>2204</td>\n",
       "    </tr>\n",
       "    <tr>\n",
       "      <th>4</th>\n",
       "      <td>4</td>\n",
       "      <td>2934</td>\n",
       "      <td>50</td>\n",
       "      <td>250</td>\n",
       "      <td>2025-02-22 13:37:58</td>\n",
       "      <td>19565</td>\n",
       "      <td>2204</td>\n",
       "    </tr>\n",
       "  </tbody>\n",
       "</table>\n",
       "</div>"
      ],
      "text/plain": [
       "   Socio_id  Socio_id  Cantidad_movimiento  Caja            Timestamp  \\\n",
       "0         0      2894                   50    50  2025-02-22 13:37:58   \n",
       "1         1      2904                   50   100  2025-02-22 13:37:58   \n",
       "2         2      2914                   50   150  2025-02-22 13:37:58   \n",
       "3         3      2924                   50   200  2025-02-22 13:37:58   \n",
       "4         4      2934                   50   250  2025-02-22 13:37:58   \n",
       "\n",
       "   Sesion_id  Acuerdo_id  \n",
       "0      19565        2204  \n",
       "1      19565        2204  \n",
       "2      19565        2204  \n",
       "3      19565        2204  \n",
       "4      19565        2204  "
      ]
     },
     "execution_count": 42,
     "metadata": {},
     "output_type": "execute_result"
    }
   ],
   "source": [
    "woro"
   ]
  },
  {
   "cell_type": "code",
   "execution_count": null,
   "id": "6875409e",
   "metadata": {},
   "outputs": [
    {
     "data": {
      "text/plain": [
       "Acuerdo_id                               2204\n",
       "Grupo_id                                 2574\n",
       "Fecha_acuerdos                     2024-11-26\n",
       "Fecha_acuerdos_fin                 2025-11-26\n",
       "Status                                      1\n",
       "Periodo_reuniones                           3\n",
       "Periodo_cargos                              1\n",
       "Limite_inasistencias                        3\n",
       "Minimo_aportacion                          50\n",
       "Costo_acciones                             10\n",
       "Tasa_interes                              3.0\n",
       "Limite_credito                              4\n",
       "Porcentaje_fondo_comun                      0\n",
       "Creditos_simultaneos                        1\n",
       "Interes_morosidad                         1.0\n",
       "Ampliacion_prestamos                        0\n",
       "Interes_ampliacion                       None\n",
       "Mod_calculo_interes                         1\n",
       "Tasa_interes_prestamo_grande              0.0\n",
       "Id_socio_administrador                   2914\n",
       "Id_socio_administrador_suplente          2924\n",
       "dtype: object"
      ]
     },
     "execution_count": 40,
     "metadata": {},
     "output_type": "execute_result"
    }
   ],
   "source": [
    "monitor_grupo.acuerdos"
   ]
  },
  {
   "cell_type": "code",
   "execution_count": null,
   "id": "b8ba03df",
   "metadata": {},
   "outputs": [
    {
     "data": {
      "text/plain": [
       "70.0"
      ]
     },
     "execution_count": 13,
     "metadata": {},
     "output_type": "execute_result"
    }
   ],
   "source": [
    "monitor_grupo.caja"
   ]
  },
  {
   "cell_type": "code",
   "execution_count": null,
   "id": "bcc3d61f",
   "metadata": {},
   "outputs": [
    {
     "data": {
      "text/html": [
       "<div>\n",
       "<style scoped>\n",
       "    .dataframe tbody tr th:only-of-type {\n",
       "        vertical-align: middle;\n",
       "    }\n",
       "\n",
       "    .dataframe tbody tr th {\n",
       "        vertical-align: top;\n",
       "    }\n",
       "\n",
       "    .dataframe thead th {\n",
       "        text-align: right;\n",
       "    }\n",
       "</style>\n",
       "<table border=\"1\" class=\"dataframe\">\n",
       "  <thead>\n",
       "    <tr style=\"text-align: right;\">\n",
       "      <th></th>\n",
       "      <th>Ganancias_id</th>\n",
       "      <th>Monto_ganancia</th>\n",
       "      <th>Entregada</th>\n",
       "      <th>Socio_id</th>\n",
       "      <th>Sesion_id</th>\n",
       "    </tr>\n",
       "  </thead>\n",
       "  <tbody>\n",
       "    <tr>\n",
       "      <th>0</th>\n",
       "      <td>78972</td>\n",
       "      <td>0.0</td>\n",
       "      <td>0</td>\n",
       "      <td>2894</td>\n",
       "      <td>19555</td>\n",
       "    </tr>\n",
       "    <tr>\n",
       "      <th>1</th>\n",
       "      <td>78973</td>\n",
       "      <td>0.0</td>\n",
       "      <td>0</td>\n",
       "      <td>2904</td>\n",
       "      <td>19555</td>\n",
       "    </tr>\n",
       "    <tr>\n",
       "      <th>2</th>\n",
       "      <td>78974</td>\n",
       "      <td>0.0</td>\n",
       "      <td>0</td>\n",
       "      <td>2914</td>\n",
       "      <td>19555</td>\n",
       "    </tr>\n",
       "    <tr>\n",
       "      <th>3</th>\n",
       "      <td>78975</td>\n",
       "      <td>0.0</td>\n",
       "      <td>0</td>\n",
       "      <td>2924</td>\n",
       "      <td>19555</td>\n",
       "    </tr>\n",
       "    <tr>\n",
       "      <th>4</th>\n",
       "      <td>78976</td>\n",
       "      <td>0.0</td>\n",
       "      <td>0</td>\n",
       "      <td>2934</td>\n",
       "      <td>19555</td>\n",
       "    </tr>\n",
       "  </tbody>\n",
       "</table>\n",
       "</div>"
      ],
      "text/plain": [
       "   Ganancias_id  Monto_ganancia  Entregada  Socio_id  Sesion_id\n",
       "0         78972             0.0          0      2894      19555\n",
       "1         78973             0.0          0      2904      19555\n",
       "2         78974             0.0          0      2914      19555\n",
       "3         78975             0.0          0      2924      19555\n",
       "4         78976             0.0          0      2934      19555"
      ]
     },
     "execution_count": 14,
     "metadata": {},
     "output_type": "execute_result"
    }
   ],
   "source": [
    "monitor_grupo.ganancias"
   ]
  },
  {
   "cell_type": "code",
   "execution_count": null,
   "id": "966b34fc",
   "metadata": {},
   "outputs": [
    {
     "data": {
      "text/html": [
       "<div>\n",
       "<style scoped>\n",
       "    .dataframe tbody tr th:only-of-type {\n",
       "        vertical-align: middle;\n",
       "    }\n",
       "\n",
       "    .dataframe tbody tr th {\n",
       "        vertical-align: top;\n",
       "    }\n",
       "\n",
       "    .dataframe thead th {\n",
       "        text-align: right;\n",
       "    }\n",
       "</style>\n",
       "<table border=\"1\" class=\"dataframe\">\n",
       "  <thead>\n",
       "    <tr style=\"text-align: right;\">\n",
       "      <th></th>\n",
       "    </tr>\n",
       "  </thead>\n",
       "  <tbody>\n",
       "  </tbody>\n",
       "</table>\n",
       "</div>"
      ],
      "text/plain": [
       "Empty DataFrame\n",
       "Columns: []\n",
       "Index: []"
      ]
     },
     "execution_count": 15,
     "metadata": {},
     "output_type": "execute_result"
    }
   ],
   "source": [
    "monitor_grupo.ganancias_acum"
   ]
  },
  {
   "cell_type": "code",
   "execution_count": null,
   "id": "1b82f209",
   "metadata": {},
   "outputs": [
    {
     "data": {
      "text/plain": [
       "[{'Sesion_id': 19555}]"
      ]
     },
     "execution_count": 16,
     "metadata": {},
     "output_type": "execute_result"
    }
   ],
   "source": [
    "monitor_grupo.sesiones"
   ]
  },
  {
   "cell_type": "code",
   "execution_count": null,
   "id": "2db9d490",
   "metadata": {},
   "outputs": [
    {
     "data": {
      "text/html": [
       "<div>\n",
       "<style scoped>\n",
       "    .dataframe tbody tr th:only-of-type {\n",
       "        vertical-align: middle;\n",
       "    }\n",
       "\n",
       "    .dataframe tbody tr th {\n",
       "        vertical-align: top;\n",
       "    }\n",
       "\n",
       "    .dataframe thead th {\n",
       "        text-align: right;\n",
       "    }\n",
       "</style>\n",
       "<table border=\"1\" class=\"dataframe\">\n",
       "  <thead>\n",
       "    <tr style=\"text-align: right;\">\n",
       "      <th></th>\n",
       "      <th>Interes_prestamo_id</th>\n",
       "      <th>Prestamo_id</th>\n",
       "      <th>Sesion_id</th>\n",
       "      <th>Monto_interes</th>\n",
       "      <th>Tipo_interes</th>\n",
       "    </tr>\n",
       "  </thead>\n",
       "  <tbody>\n",
       "  </tbody>\n",
       "</table>\n",
       "</div>"
      ],
      "text/plain": [
       "Empty DataFrame\n",
       "Columns: [Interes_prestamo_id, Prestamo_id, Sesion_id, Monto_interes, Tipo_interes]\n",
       "Index: []"
      ]
     },
     "execution_count": 17,
     "metadata": {},
     "output_type": "execute_result"
    }
   ],
   "source": [
    "monitor_grupo.interes_prestamo"
   ]
  },
  {
   "cell_type": "code",
   "execution_count": null,
   "id": "cccfebcb",
   "metadata": {},
   "outputs": [],
   "source": [
    "monitor_grupo.interes_futuro_prestamo"
   ]
  },
  {
   "cell_type": "code",
   "execution_count": null,
   "id": "a0e613a5",
   "metadata": {},
   "outputs": [],
   "source": [
    "monitor_grupo."
   ]
  }
 ],
 "metadata": {
  "kernelspec": {
   "display_name": "cosecha_colectiva_env",
   "language": "python",
   "name": "python3"
  },
  "language_info": {
   "codemirror_mode": {
    "name": "ipython",
    "version": 3
   },
   "file_extension": ".py",
   "mimetype": "text/x-python",
   "name": "python",
   "nbconvert_exporter": "python",
   "pygments_lexer": "ipython3",
   "version": "3.9.12"
  },
  "vscode": {
   "interpreter": {
    "hash": "cdce1354676d05e6f6f63465f4a19b9f41e207b5ed2e5edccc9c3b7980cbdc99"
   }
  }
 },
 "nbformat": 4,
 "nbformat_minor": 5
}
