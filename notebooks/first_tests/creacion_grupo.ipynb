{
 "cells": [
  {
   "cell_type": "code",
   "execution_count": 1,
   "id": "352e1825",
   "metadata": {},
   "outputs": [
    {
     "name": "stdout",
     "output_type": "stream",
     "text": [
      "Local configuration file found !!, no need to run the configuration (unless configuration has changed)\n"
     ]
    },
    {
     "name": "stderr",
     "output_type": "stream",
     "text": [
      "[2023-03-24 14:22:00,315][INFO]: Connecting b3cf7edd2f8490@us-cdbr-east-06.cleardb.net:3306\n",
      "[2023-03-24 14:22:01,310][INFO]: Connected b3cf7edd2f8490@us-cdbr-east-06.cleardb.net:3306\n"
     ]
    }
   ],
   "source": [
    "from cosecha_colectiva import miscelaneous as m\n",
    "m.try_find_conf_file()\n",
    "\n",
    "from cosecha_colectiva import main_tester as mt\n",
    "from cosecha_colectiva import config\n",
    "from cosecha_colectiva import test_cosecha_api as tca\n",
    "from cosecha_colectiva import query_cosecha as qc\n",
    "\n",
    "import datajoint as dj\n",
    "\n",
    "import pathlib\n",
    "import numpy as np"
   ]
  },
  {
   "attachments": {},
   "cell_type": "markdown",
   "id": "7122112a",
   "metadata": {},
   "source": [
    "### Nombre archivo"
   ]
  },
  {
   "cell_type": "code",
   "execution_count": 2,
   "id": "66539660",
   "metadata": {},
   "outputs": [],
   "source": [
    "xls_name = 'CAF_GrupoHerrero.xlsx'"
   ]
  },
  {
   "attachments": {},
   "cell_type": "markdown",
   "id": "e00cd7ca",
   "metadata": {},
   "source": [
    "### Si se necesita borrar el grupo"
   ]
  },
  {
   "cell_type": "code",
   "execution_count": 3,
   "id": "da25ed0d",
   "metadata": {},
   "outputs": [
    {
     "name": "stdout",
     "output_type": "stream",
     "text": [
      "1164\n",
      "([{'Transaccion_prestamo_id': 64}, {'Transaccion_prestamo_id': 74}, {'Transaccion_prestamo_id': 84}, {'Transaccion_prestamo_id': 94}, {'Transaccion_prestamo_id': 104}, {'Transaccion_prestamo_id': 114}, {'Transaccion_prestamo_id': 124}, {'Transaccion_prestamo_id': 134}, {'Transaccion_prestamo_id': 144}, {'Transaccion_prestamo_id': 154}, {'Transaccion_prestamo_id': 164}, {'Transaccion_prestamo_id': 174}, {'Transaccion_prestamo_id': 184}, {'Transaccion_prestamo_id': 194}, {'Transaccion_prestamo_id': 204}, {'Transaccion_prestamo_id': 214}, {'Transaccion_prestamo_id': 224}, {'Transaccion_prestamo_id': 234}, {'Transaccion_prestamo_id': 244}, {'Transaccion_prestamo_id': 254}, {'Transaccion_prestamo_id': 264}, {'Transaccion_prestamo_id': 274}, {'Transaccion_prestamo_id': 284}, {'Transaccion_prestamo_id': 294}, {'Transaccion_prestamo_id': 304}, {'Transaccion_prestamo_id': 314}, {'Transaccion_prestamo_id': 324}, {'Transaccion_prestamo_id': 334}, {'Transaccion_prestamo_id': 344}, {'Transaccion_prestamo_id': 354}, {'Transaccion_prestamo_id': 364}, {'Transaccion_prestamo_id': 374}], 'transaccion_prestamos')\n",
      "DELETE from heroku_59f792929604e63.transaccion_prestamos WHERE Transaccion_prestamo_id in (64, 74, 84, 94, 104, 114, 124, 134, 144, 154, 164, 174, 184, 194, 204, 214, 224, 234, 244, 254, 264, 274, 284, 294, 304, 314, 324, 334, 344, 354, 364, 374)\n",
      "([{'Transaccion_id': 1724}, {'Transaccion_id': 1734}, {'Transaccion_id': 1744}, {'Transaccion_id': 1754}, {'Transaccion_id': 1764}, {'Transaccion_id': 1774}, {'Transaccion_id': 1784}, {'Transaccion_id': 1794}, {'Transaccion_id': 1804}, {'Transaccion_id': 1814}, {'Transaccion_id': 1824}, {'Transaccion_id': 1834}, {'Transaccion_id': 1844}, {'Transaccion_id': 1854}, {'Transaccion_id': 1864}, {'Transaccion_id': 1874}, {'Transaccion_id': 1884}, {'Transaccion_id': 1894}, {'Transaccion_id': 1904}, {'Transaccion_id': 1914}, {'Transaccion_id': 1924}, {'Transaccion_id': 1934}, {'Transaccion_id': 1944}, {'Transaccion_id': 1954}, {'Transaccion_id': 1964}, {'Transaccion_id': 1974}, {'Transaccion_id': 1984}, {'Transaccion_id': 1994}, {'Transaccion_id': 2004}, {'Transaccion_id': 2014}, {'Transaccion_id': 2024}, {'Transaccion_id': 2034}, {'Transaccion_id': 2044}, {'Transaccion_id': 2054}, {'Transaccion_id': 2064}, {'Transaccion_id': 2074}, {'Transaccion_id': 2084}, {'Transaccion_id': 2094}, {'Transaccion_id': 2104}, {'Transaccion_id': 2114}, {'Transaccion_id': 2124}, {'Transaccion_id': 2134}, {'Transaccion_id': 2144}, {'Transaccion_id': 2154}, {'Transaccion_id': 2164}, {'Transaccion_id': 2174}, {'Transaccion_id': 2184}, {'Transaccion_id': 2194}, {'Transaccion_id': 2204}, {'Transaccion_id': 2214}, {'Transaccion_id': 2224}, {'Transaccion_id': 2234}, {'Transaccion_id': 2244}, {'Transaccion_id': 2254}, {'Transaccion_id': 2264}, {'Transaccion_id': 2274}, {'Transaccion_id': 2284}, {'Transaccion_id': 2294}, {'Transaccion_id': 2304}, {'Transaccion_id': 2314}, {'Transaccion_id': 2324}, {'Transaccion_id': 2334}, {'Transaccion_id': 2344}, {'Transaccion_id': 2354}, {'Transaccion_id': 2364}, {'Transaccion_id': 2374}, {'Transaccion_id': 2384}, {'Transaccion_id': 2394}, {'Transaccion_id': 2404}, {'Transaccion_id': 2414}, {'Transaccion_id': 2424}, {'Transaccion_id': 2434}, {'Transaccion_id': 2444}, {'Transaccion_id': 2454}, {'Transaccion_id': 2464}, {'Transaccion_id': 2474}, {'Transaccion_id': 2484}, {'Transaccion_id': 2494}, {'Transaccion_id': 2504}, {'Transaccion_id': 2514}, {'Transaccion_id': 2524}, {'Transaccion_id': 2534}, {'Transaccion_id': 2544}, {'Transaccion_id': 2554}, {'Transaccion_id': 2564}, {'Transaccion_id': 2574}, {'Transaccion_id': 2584}, {'Transaccion_id': 2594}, {'Transaccion_id': 2604}, {'Transaccion_id': 2614}, {'Transaccion_id': 2624}, {'Transaccion_id': 2634}, {'Transaccion_id': 2644}, {'Transaccion_id': 2654}, {'Transaccion_id': 2664}, {'Transaccion_id': 2674}, {'Transaccion_id': 2684}, {'Transaccion_id': 2694}, {'Transaccion_id': 2704}, {'Transaccion_id': 2714}, {'Transaccion_id': 2724}, {'Transaccion_id': 2734}, {'Transaccion_id': 2744}, {'Transaccion_id': 2754}, {'Transaccion_id': 2764}, {'Transaccion_id': 2774}, {'Transaccion_id': 2784}, {'Transaccion_id': 2794}, {'Transaccion_id': 2804}, {'Transaccion_id': 2814}, {'Transaccion_id': 2824}, {'Transaccion_id': 2834}, {'Transaccion_id': 2844}, {'Transaccion_id': 2854}, {'Transaccion_id': 2864}, {'Transaccion_id': 2874}, {'Transaccion_id': 2884}, {'Transaccion_id': 2894}, {'Transaccion_id': 2904}, {'Transaccion_id': 2914}, {'Transaccion_id': 2924}, {'Transaccion_id': 2934}, {'Transaccion_id': 2944}, {'Transaccion_id': 2954}, {'Transaccion_id': 2964}, {'Transaccion_id': 2974}, {'Transaccion_id': 2984}, {'Transaccion_id': 2994}, {'Transaccion_id': 3004}, {'Transaccion_id': 3014}, {'Transaccion_id': 3024}, {'Transaccion_id': 3034}, {'Transaccion_id': 3044}, {'Transaccion_id': 3054}, {'Transaccion_id': 3064}, {'Transaccion_id': 3074}, {'Transaccion_id': 3084}, {'Transaccion_id': 3094}, {'Transaccion_id': 3104}, {'Transaccion_id': 3114}, {'Transaccion_id': 3124}, {'Transaccion_id': 3134}, {'Transaccion_id': 3144}, {'Transaccion_id': 3154}, {'Transaccion_id': 3164}, {'Transaccion_id': 3174}, {'Transaccion_id': 3184}, {'Transaccion_id': 3194}, {'Transaccion_id': 3204}, {'Transaccion_id': 3214}, {'Transaccion_id': 3224}, {'Transaccion_id': 3234}, {'Transaccion_id': 3244}, {'Transaccion_id': 3254}], 'transacciones')\n",
      "DELETE from heroku_59f792929604e63.transacciones WHERE Transaccion_id in (1724, 1734, 1744, 1754, 1764, 1774, 1784, 1794, 1804, 1814, 1824, 1834, 1844, 1854, 1864, 1874, 1884, 1894, 1904, 1914, 1924, 1934, 1944, 1954, 1964, 1974, 1984, 1994, 2004, 2014, 2024, 2034, 2044, 2054, 2064, 2074, 2084, 2094, 2104, 2114, 2124, 2134, 2144, 2154, 2164, 2174, 2184, 2194, 2204, 2214, 2224, 2234, 2244, 2254, 2264, 2274, 2284, 2294, 2304, 2314, 2324, 2334, 2344, 2354, 2364, 2374, 2384, 2394, 2404, 2414, 2424, 2434, 2444, 2454, 2464, 2474, 2484, 2494, 2504, 2514, 2524, 2534, 2544, 2554, 2564, 2574, 2584, 2594, 2604, 2614, 2624, 2634, 2644, 2654, 2664, 2674, 2684, 2694, 2704, 2714, 2724, 2734, 2744, 2754, 2764, 2774, 2784, 2794, 2804, 2814, 2824, 2834, 2844, 2854, 2864, 2874, 2884, 2894, 2904, 2914, 2924, 2934, 2944, 2954, 2964, 2974, 2984, 2994, 3004, 3014, 3024, 3034, 3044, 3054, 3064, 3074, 3084, 3094, 3104, 3114, 3124, 3134, 3144, 3154, 3164, 3174, 3184, 3194, 3204, 3214, 3224, 3234, 3244, 3254)\n",
      "([{'Ganancias_id': 1154}, {'Ganancias_id': 1164}, {'Ganancias_id': 1174}, {'Ganancias_id': 1184}, {'Ganancias_id': 1194}, {'Ganancias_id': 1204}, {'Ganancias_id': 1214}, {'Ganancias_id': 1224}, {'Ganancias_id': 1234}, {'Ganancias_id': 1244}, {'Ganancias_id': 1254}, {'Ganancias_id': 1264}, {'Ganancias_id': 1274}, {'Ganancias_id': 1284}, {'Ganancias_id': 1294}, {'Ganancias_id': 1304}, {'Ganancias_id': 1314}, {'Ganancias_id': 1324}, {'Ganancias_id': 1334}, {'Ganancias_id': 1344}, {'Ganancias_id': 1354}, {'Ganancias_id': 1364}, {'Ganancias_id': 1374}, {'Ganancias_id': 1384}, {'Ganancias_id': 1394}, {'Ganancias_id': 1404}, {'Ganancias_id': 1414}, {'Ganancias_id': 1424}, {'Ganancias_id': 1434}, {'Ganancias_id': 1444}, {'Ganancias_id': 1454}, {'Ganancias_id': 1464}, {'Ganancias_id': 1474}, {'Ganancias_id': 1484}, {'Ganancias_id': 1494}, {'Ganancias_id': 1504}, {'Ganancias_id': 1514}, {'Ganancias_id': 1524}, {'Ganancias_id': 1534}, {'Ganancias_id': 1544}, {'Ganancias_id': 1554}, {'Ganancias_id': 1564}, {'Ganancias_id': 1574}, {'Ganancias_id': 1584}, {'Ganancias_id': 1594}, {'Ganancias_id': 1604}, {'Ganancias_id': 1614}, {'Ganancias_id': 1624}, {'Ganancias_id': 1634}, {'Ganancias_id': 1644}, {'Ganancias_id': 1654}, {'Ganancias_id': 1664}, {'Ganancias_id': 1674}, {'Ganancias_id': 1684}, {'Ganancias_id': 1694}, {'Ganancias_id': 1704}, {'Ganancias_id': 1714}, {'Ganancias_id': 1724}, {'Ganancias_id': 1734}, {'Ganancias_id': 1744}, {'Ganancias_id': 1754}, {'Ganancias_id': 1764}, {'Ganancias_id': 1774}, {'Ganancias_id': 1784}, {'Ganancias_id': 1794}, {'Ganancias_id': 1804}, {'Ganancias_id': 1814}, {'Ganancias_id': 1824}, {'Ganancias_id': 1834}, {'Ganancias_id': 1844}, {'Ganancias_id': 1854}, {'Ganancias_id': 1864}, {'Ganancias_id': 1874}, {'Ganancias_id': 1884}, {'Ganancias_id': 1894}, {'Ganancias_id': 1904}, {'Ganancias_id': 1914}, {'Ganancias_id': 1924}, {'Ganancias_id': 1934}, {'Ganancias_id': 1944}, {'Ganancias_id': 1954}, {'Ganancias_id': 1964}, {'Ganancias_id': 1974}, {'Ganancias_id': 1984}, {'Ganancias_id': 1994}, {'Ganancias_id': 2004}, {'Ganancias_id': 2014}, {'Ganancias_id': 2024}, {'Ganancias_id': 2034}, {'Ganancias_id': 2044}, {'Ganancias_id': 2054}, {'Ganancias_id': 2064}, {'Ganancias_id': 2074}, {'Ganancias_id': 2084}, {'Ganancias_id': 2094}, {'Ganancias_id': 2104}, {'Ganancias_id': 2114}, {'Ganancias_id': 2124}, {'Ganancias_id': 2134}, {'Ganancias_id': 2144}, {'Ganancias_id': 2154}, {'Ganancias_id': 2164}, {'Ganancias_id': 2174}, {'Ganancias_id': 2184}, {'Ganancias_id': 2194}, {'Ganancias_id': 2204}, {'Ganancias_id': 2214}, {'Ganancias_id': 2224}, {'Ganancias_id': 2234}, {'Ganancias_id': 2244}], 'ganancias')\n",
      "DELETE from heroku_59f792929604e63.ganancias WHERE Ganancias_id in (1154, 1164, 1174, 1184, 1194, 1204, 1214, 1224, 1234, 1244, 1254, 1264, 1274, 1284, 1294, 1304, 1314, 1324, 1334, 1344, 1354, 1364, 1374, 1384, 1394, 1404, 1414, 1424, 1434, 1444, 1454, 1464, 1474, 1484, 1494, 1504, 1514, 1524, 1534, 1544, 1554, 1564, 1574, 1584, 1594, 1604, 1614, 1624, 1634, 1644, 1654, 1664, 1674, 1684, 1694, 1704, 1714, 1724, 1734, 1744, 1754, 1764, 1774, 1784, 1794, 1804, 1814, 1824, 1834, 1844, 1854, 1864, 1874, 1884, 1894, 1904, 1914, 1924, 1934, 1944, 1954, 1964, 1974, 1984, 1994, 2004, 2014, 2024, 2034, 2044, 2054, 2064, 2074, 2084, 2094, 2104, 2114, 2124, 2134, 2144, 2154, 2164, 2174, 2184, 2194, 2204, 2214, 2224, 2234, 2244)\n",
      "([{'Multa_id': 624}, {'Multa_id': 634}, {'Multa_id': 644}], 'multas')\n",
      "DELETE from heroku_59f792929604e63.multas WHERE Multa_id in (624, 634, 644)\n",
      "([{'Prestamo_id': 54}, {'Prestamo_id': 64}, {'Prestamo_id': 74}, {'Prestamo_id': 84}, {'Prestamo_id': 94}, {'Prestamo_id': 104}, {'Prestamo_id': 114}, {'Prestamo_id': 124}, {'Prestamo_id': 134}, {'Prestamo_id': 144}], 'prestamos')\n",
      "DELETE from heroku_59f792929604e63.prestamos WHERE Prestamo_id in (54, 64, 74, 84, 94, 104, 114, 124, 134, 144)\n",
      "([{'Asistencia_id': 4874}, {'Asistencia_id': 4884}, {'Asistencia_id': 4894}, {'Asistencia_id': 4904}, {'Asistencia_id': 4914}, {'Asistencia_id': 4924}, {'Asistencia_id': 4934}, {'Asistencia_id': 4944}, {'Asistencia_id': 4954}, {'Asistencia_id': 4964}, {'Asistencia_id': 4974}, {'Asistencia_id': 4984}, {'Asistencia_id': 4994}, {'Asistencia_id': 5004}, {'Asistencia_id': 5014}, {'Asistencia_id': 5024}, {'Asistencia_id': 5034}, {'Asistencia_id': 5044}, {'Asistencia_id': 5054}, {'Asistencia_id': 5064}, {'Asistencia_id': 5074}, {'Asistencia_id': 5084}, {'Asistencia_id': 5094}, {'Asistencia_id': 5104}, {'Asistencia_id': 5114}, {'Asistencia_id': 5124}, {'Asistencia_id': 5134}, {'Asistencia_id': 5144}, {'Asistencia_id': 5154}, {'Asistencia_id': 5164}, {'Asistencia_id': 5174}, {'Asistencia_id': 5184}, {'Asistencia_id': 5194}, {'Asistencia_id': 5204}, {'Asistencia_id': 5214}, {'Asistencia_id': 5224}, {'Asistencia_id': 5234}, {'Asistencia_id': 5244}, {'Asistencia_id': 5254}, {'Asistencia_id': 5264}, {'Asistencia_id': 5274}, {'Asistencia_id': 5284}, {'Asistencia_id': 5294}, {'Asistencia_id': 5304}, {'Asistencia_id': 5314}, {'Asistencia_id': 5324}, {'Asistencia_id': 5334}, {'Asistencia_id': 5344}, {'Asistencia_id': 5354}, {'Asistencia_id': 5364}, {'Asistencia_id': 5374}, {'Asistencia_id': 5384}, {'Asistencia_id': 5394}, {'Asistencia_id': 5404}, {'Asistencia_id': 5414}, {'Asistencia_id': 5424}, {'Asistencia_id': 5434}, {'Asistencia_id': 5444}, {'Asistencia_id': 5454}, {'Asistencia_id': 5464}, {'Asistencia_id': 5474}, {'Asistencia_id': 5484}, {'Asistencia_id': 5494}, {'Asistencia_id': 5504}, {'Asistencia_id': 5514}, {'Asistencia_id': 5524}, {'Asistencia_id': 5534}, {'Asistencia_id': 5544}, {'Asistencia_id': 5554}, {'Asistencia_id': 5564}, {'Asistencia_id': 5574}, {'Asistencia_id': 5584}, {'Asistencia_id': 5594}, {'Asistencia_id': 5604}, {'Asistencia_id': 5614}, {'Asistencia_id': 5624}, {'Asistencia_id': 5634}, {'Asistencia_id': 5644}, {'Asistencia_id': 5654}, {'Asistencia_id': 5664}, {'Asistencia_id': 5674}, {'Asistencia_id': 5684}, {'Asistencia_id': 5694}, {'Asistencia_id': 5704}, {'Asistencia_id': 5714}, {'Asistencia_id': 5724}, {'Asistencia_id': 5734}, {'Asistencia_id': 5744}, {'Asistencia_id': 5754}, {'Asistencia_id': 5764}, {'Asistencia_id': 5774}, {'Asistencia_id': 5784}, {'Asistencia_id': 5794}, {'Asistencia_id': 5804}, {'Asistencia_id': 5814}, {'Asistencia_id': 5824}, {'Asistencia_id': 5834}, {'Asistencia_id': 5844}, {'Asistencia_id': 5854}, {'Asistencia_id': 5864}, {'Asistencia_id': 5874}, {'Asistencia_id': 5884}, {'Asistencia_id': 5894}, {'Asistencia_id': 5904}, {'Asistencia_id': 5914}, {'Asistencia_id': 5924}, {'Asistencia_id': 5934}, {'Asistencia_id': 5944}, {'Asistencia_id': 5954}, {'Asistencia_id': 5964}, {'Asistencia_id': 5974}, {'Asistencia_id': 5984}, {'Asistencia_id': 5994}, {'Asistencia_id': 6004}, {'Asistencia_id': 6014}, {'Asistencia_id': 6024}, {'Asistencia_id': 6034}, {'Asistencia_id': 6044}, {'Asistencia_id': 6054}, {'Asistencia_id': 6064}], 'asistencias')\n",
      "DELETE from heroku_59f792929604e63.asistencias WHERE Asistencia_id in (4874, 4884, 4894, 4904, 4914, 4924, 4934, 4944, 4954, 4964, 4974, 4984, 4994, 5004, 5014, 5024, 5034, 5044, 5054, 5064, 5074, 5084, 5094, 5104, 5114, 5124, 5134, 5144, 5154, 5164, 5174, 5184, 5194, 5204, 5214, 5224, 5234, 5244, 5254, 5264, 5274, 5284, 5294, 5304, 5314, 5324, 5334, 5344, 5354, 5364, 5374, 5384, 5394, 5404, 5414, 5424, 5434, 5444, 5454, 5464, 5474, 5484, 5494, 5504, 5514, 5524, 5534, 5544, 5554, 5564, 5574, 5584, 5594, 5604, 5614, 5624, 5634, 5644, 5654, 5664, 5674, 5684, 5694, 5704, 5714, 5724, 5734, 5744, 5754, 5764, 5774, 5784, 5794, 5804, 5814, 5824, 5834, 5844, 5854, 5864, 5874, 5884, 5894, 5904, 5914, 5924, 5934, 5944, 5954, 5964, 5974, 5984, 5994, 6004, 6014, 6024, 6034, 6044, 6054, 6064)\n",
      "([{'Sesion_id': 1424}, {'Sesion_id': 1434}, {'Sesion_id': 1444}, {'Sesion_id': 1454}, {'Sesion_id': 1464}, {'Sesion_id': 1474}, {'Sesion_id': 1484}, {'Sesion_id': 1494}, {'Sesion_id': 1504}, {'Sesion_id': 1514}, {'Sesion_id': 1524}, {'Sesion_id': 1534}], 'sesiones')\n",
      "DELETE from heroku_59f792929604e63.sesiones WHERE Sesion_id in (1424, 1434, 1444, 1454, 1464, 1474, 1484, 1494, 1504, 1514, 1524, 1534)\n",
      "([{'Acuerdo_id': 164}], 'acuerdos')\n",
      "DELETE from heroku_59f792929604e63.acuerdos WHERE Acuerdo_id in (164)\n",
      "([{'Grupo_socio_id': 2954}, {'Grupo_socio_id': 2964}, {'Grupo_socio_id': 2974}, {'Grupo_socio_id': 2984}, {'Grupo_socio_id': 2994}, {'Grupo_socio_id': 3004}, {'Grupo_socio_id': 3014}, {'Grupo_socio_id': 3024}, {'Grupo_socio_id': 3034}, {'Grupo_socio_id': 3044}], 'grupo_socio')\n",
      "DELETE from heroku_59f792929604e63.grupo_socio WHERE Grupo_socio_id in (2954, 2964, 2974, 2984, 2994, 3004, 3014, 3024, 3034, 3044)\n",
      "([{'Grupo_id': 1164}], 'grupos')\n",
      "DELETE from heroku_59f792929604e63.grupos WHERE Grupo_id in (1164)\n"
     ]
    }
   ],
   "source": [
    "id_grupo = qc.get_grupo_id_by_name(xls_name.split('.')[0])\n",
    "print(id_grupo)\n",
    "#qc.delete_grupo(id_grupo, solo_sesiones=True)\n",
    "qc.delete_grupo(id_grupo)"
   ]
  },
  {
   "cell_type": "code",
   "execution_count": 4,
   "id": "c9f572ab",
   "metadata": {},
   "outputs": [
    {
     "name": "stdout",
     "output_type": "stream",
     "text": [
      "{\"code\":400,\"message\":\"El nombre de usuario herrero1 ya existe\"}\n",
      "{\"code\":400,\"message\":\"El nombre de usuario herrero2 ya existe\"}\n",
      "{\"code\":400,\"message\":\"El nombre de usuario herrero3 ya existe\"}\n",
      "{\"code\":400,\"message\":\"El nombre de usuario herrero4 ya existe\"}\n",
      "{\"code\":400,\"message\":\"El nombre de usuario herrero5 ya existe\"}\n",
      "{\"code\":400,\"message\":\"El nombre de usuario herrero6 ya existe\"}\n",
      "{\"code\":400,\"message\":\"El nombre de usuario herrero7 ya existe\"}\n",
      "{\"code\":400,\"message\":\"El nombre de usuario herrero8 ya existe\"}\n",
      "{\"code\":400,\"message\":\"El nombre de usuario herrero9 ya existe\"}\n",
      "{\"code\":400,\"message\":\"El nombre de usuario herrero10 ya existe\"}\n"
     ]
    }
   ],
   "source": [
    "tca.CAF_API_group_creation_tester.create_users(xls_name)"
   ]
  },
  {
   "cell_type": "code",
   "execution_count": 5,
   "id": "e0646fee",
   "metadata": {},
   "outputs": [
    {
     "name": "stdout",
     "output_type": "stream",
     "text": [
      "<Response [200]>\n"
     ]
    }
   ],
   "source": [
    "admin_header,_ = tca.CAF_API_general.login_first_user_excel(xls_name)"
   ]
  },
  {
   "cell_type": "code",
   "execution_count": 6,
   "id": "021c17c4",
   "metadata": {},
   "outputs": [
    {
     "name": "stdout",
     "output_type": "stream",
     "text": [
      "{\"code\":200,\"message\":\"Grupo creado\",\"data\":{\"Codigo_grupo\":\"273135\",\"Grupo_id\":1154}}\n"
     ]
    },
    {
     "data": {
      "text/plain": [
       "1154"
      ]
     },
     "execution_count": 6,
     "metadata": {},
     "output_type": "execute_result"
    }
   ],
   "source": [
    "id_grupo = tca.CAF_API_group_creation_tester.create_group(xls_name, admin_header)\n",
    "id_grupo"
   ]
  },
  {
   "cell_type": "code",
   "execution_count": 9,
   "id": "fc2ad970",
   "metadata": {},
   "outputs": [
    {
     "name": "stderr",
     "output_type": "stream",
     "text": [
      "[2023-03-23 19:12:15,573][WARNING]: MySQL server has gone away. Reconnecting to the server.\n"
     ]
    },
    {
     "name": "stdout",
     "output_type": "stream",
     "text": [
      "<Response [200]>\n",
      "{\"code\":400,\"message\":\"El socio ya está en el grupo\"}\n",
      "<Response [200]>\n",
      "{\"code\":200,\"message\":\"El socio se ha unido correctamente\"}\n",
      "<Response [200]>\n",
      "{\"code\":200,\"message\":\"El socio se ha unido correctamente\"}\n",
      "<Response [200]>\n",
      "{\"code\":200,\"message\":\"El socio se ha unido correctamente\"}\n",
      "<Response [200]>\n",
      "{\"code\":200,\"message\":\"El socio se ha unido correctamente\"}\n",
      "<Response [200]>\n",
      "{\"code\":200,\"message\":\"El socio se ha unido correctamente\"}\n",
      "<Response [200]>\n",
      "{\"code\":200,\"message\":\"El socio se ha unido correctamente\"}\n",
      "<Response [200]>\n",
      "{\"code\":200,\"message\":\"El socio se ha unido correctamente\"}\n",
      "<Response [200]>\n",
      "{\"code\":200,\"message\":\"El socio se ha unido correctamente\"}\n",
      "<Response [200]>\n",
      "<!DOCTYPE html>\n",
      "\t<html>\n",
      "\t  <head>\n",
      "\t\t<meta name=\"viewport\" content=\"width=device-width, initial-scale=1\">\n",
      "\t\t<meta charset=\"utf-8\">\n",
      "\t\t<title>Application Error</title>\n",
      "\t\t<style media=\"screen\">\n",
      "\t\t  html,body,iframe {\n",
      "\t\t\tmargin: 0;\n",
      "\t\t\tpadding: 0;\n",
      "\t\t  }\n",
      "\t\t  html,body {\n",
      "\t\t\theight: 100%;\n",
      "\t\t\toverflow: hidden;\n",
      "\t\t  }\n",
      "\t\t  iframe {\n",
      "\t\t\twidth: 100%;\n",
      "\t\t\theight: 100%;\n",
      "\t\t\tborder: 0;\n",
      "\t\t  }\n",
      "\t\t</style>\n",
      "\t  </head>\n",
      "\t  <body>\n",
      "\t\t<iframe src=\"//www.herokucdn.com/error-pages/application-error.html\"></iframe>\n",
      "\t  </body>\n",
      "\t</html>\n"
     ]
    }
   ],
   "source": [
    "tca.CAF_API_group_creation_tester.add_xls_users_group(xls_name, id_grupo)"
   ]
  },
  {
   "cell_type": "code",
   "execution_count": 10,
   "id": "5495dd0e",
   "metadata": {},
   "outputs": [
    {
     "name": "stdout",
     "output_type": "stream",
     "text": [
      "<Response [200]>\n",
      "<Response [200]>\n",
      "<Response [200]>\n",
      "<Response [200]>\n",
      "<Response [200]>\n",
      "<Response [200]>\n",
      "<Response [200]>\n",
      "<Response [200]>\n",
      "<Response [200]>\n",
      "<Response [200]>\n",
      "{\"code\":200,\"message\":\"Sesion creada y asistencias registradas\"}\n"
     ]
    }
   ],
   "source": [
    "tca.CAF_API_sessions_tester.create_session(xls_name, id_grupo, admin_header)"
   ]
  },
  {
   "cell_type": "code",
   "execution_count": 11,
   "id": "0932aec5",
   "metadata": {},
   "outputs": [
    {
     "name": "stderr",
     "output_type": "stream",
     "text": [
      "[2023-03-23 19:13:27,984][WARNING]: MySQL server has gone away. Reconnecting to the server.\n"
     ]
    },
    {
     "data": {
      "text/plain": [
       "1354"
      ]
     },
     "execution_count": 11,
     "metadata": {},
     "output_type": "execute_result"
    }
   ],
   "source": [
    "id_sesion = qc.get_active_sesion(id_grupo)\n",
    "id_sesion"
   ]
  },
  {
   "cell_type": "code",
   "execution_count": 12,
   "id": "72c0e1a8",
   "metadata": {},
   "outputs": [
    {
     "name": "stdout",
     "output_type": "stream",
     "text": [
      "<Response [200]>\n",
      "<Response [200]>\n",
      "<Response [200]>\n",
      "{\"code\":200,\"message\":\"Acuerdo registrado correctamente\"}\n"
     ]
    }
   ],
   "source": [
    "tca.CAF_API_group_creation_tester.create_acuerdos(xls_name)"
   ]
  },
  {
   "cell_type": "code",
   "execution_count": 13,
   "id": "5e93f6f8",
   "metadata": {},
   "outputs": [
    {
     "name": "stdout",
     "output_type": "stream",
     "text": [
      "<Response [200]>\n",
      "<Response [200]>\n",
      "<Response [200]>\n",
      "<Response [200]>\n",
      "<Response [200]>\n",
      "<Response [200]>\n",
      "<Response [200]>\n",
      "<Response [200]>\n",
      "<Response [200]>\n",
      "<Response [200]>\n"
     ]
    }
   ],
   "source": [
    "tca.CAF_API_group_creation_tester.acciones_iniciales(xls_name, id_grupo, id_sesion)"
   ]
  },
  {
   "cell_type": "code",
   "execution_count": 14,
   "id": "ce321344",
   "metadata": {},
   "outputs": [
    {
     "name": "stdout",
     "output_type": "stream",
     "text": [
      "{\"code\":200,\"message\":\"Sesion finalizada\"}\n"
     ]
    }
   ],
   "source": [
    "tca.CAF_API_sessions_tester.end_session(id_grupo, admin_header)"
   ]
  },
  {
   "cell_type": "code",
   "execution_count": null,
   "id": "4e77a750",
   "metadata": {},
   "outputs": [],
   "source": []
  }
 ],
 "metadata": {
  "kernelspec": {
   "display_name": "cosecha_colectiva_env",
   "language": "python",
   "name": "python3"
  },
  "language_info": {
   "codemirror_mode": {
    "name": "ipython",
    "version": 3
   },
   "file_extension": ".py",
   "mimetype": "text/x-python",
   "name": "python",
   "nbconvert_exporter": "python",
   "pygments_lexer": "ipython3",
   "version": "3.9.12"
  },
  "vscode": {
   "interpreter": {
    "hash": "cdce1354676d05e6f6f63465f4a19b9f41e207b5ed2e5edccc9c3b7980cbdc99"
   }
  }
 },
 "nbformat": 4,
 "nbformat_minor": 5
}
