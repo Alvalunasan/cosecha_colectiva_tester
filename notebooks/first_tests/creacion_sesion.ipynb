{
 "cells": [
  {
   "cell_type": "code",
   "execution_count": 1,
   "id": "352e1825",
   "metadata": {},
   "outputs": [
    {
     "name": "stdout",
     "output_type": "stream",
     "text": [
      "Local configuration file found !!, no need to run the configuration (unless configuration has changed)\n"
     ]
    },
    {
     "name": "stderr",
     "output_type": "stream",
     "text": [
      "[2023-03-29 12:16:40,819][INFO]: Connecting b3cf7edd2f8490@us-cdbr-east-06.cleardb.net:3306\n",
      "[2023-03-29 12:16:41,790][INFO]: Connected b3cf7edd2f8490@us-cdbr-east-06.cleardb.net:3306\n"
     ]
    }
   ],
   "source": [
    "from cosecha_colectiva import miscelaneous as ms\n",
    "ms.try_find_conf_file()\n",
    "\n",
    "from cosecha_colectiva import test_cosecha_api as tca\n",
    "from cosecha_colectiva import query_cosecha as qc\n"
   ]
  },
  {
   "attachments": {},
   "cell_type": "markdown",
   "id": "7122112a",
   "metadata": {},
   "source": [
    "### Leer excel"
   ]
  },
  {
   "cell_type": "code",
   "execution_count": 2,
   "id": "fc4c1e9e",
   "metadata": {},
   "outputs": [],
   "source": [
    "xls_name = 'CAF_GrupoHerrero.xlsx'\n"
   ]
  },
  {
   "cell_type": "code",
   "execution_count": 3,
   "id": "783552cf",
   "metadata": {},
   "outputs": [
    {
     "data": {
      "text/plain": [
       "1174"
      ]
     },
     "execution_count": 3,
     "metadata": {},
     "output_type": "execute_result"
    }
   ],
   "source": [
    "#Crear sesion\n",
    "id_grupo, admin_header = tca.CAF_API_general.get_grupo_id_admin_header_xls(xls_name)\n",
    "id_grupo"
   ]
  },
  {
   "cell_type": "code",
   "execution_count": null,
   "id": "d3c3e6d1",
   "metadata": {},
   "outputs": [],
   "source": [
    "tca.CAF_API_sessions_tester.create_session(id_grupo, admin_header)"
   ]
  },
  {
   "cell_type": "code",
   "execution_count": 4,
   "id": "9470706d",
   "metadata": {},
   "outputs": [
    {
     "name": "stdout",
     "output_type": "stream",
     "text": [
      "{'Monto_prestamo': 1000.0, 'Num_sesiones': 6, 'Observaciones': 'Prestamo socio 864 grupo: 1174', 'Estatus_ampliacion': False, 'Prestamo_original_id': None}\n",
      "https://cosechacolectiva.herokuapp.com/api/grupos/1174/socios/864/prestamos/\n"
     ]
    },
    {
     "name": "stderr",
     "output_type": "stream",
     "text": [
      "ERROR:root:{\"code\":400,\"message\":\"El socio Herrero9 Sus prestamos llegan a su limite de credito\"}\n"
     ]
    },
    {
     "ename": "Exception",
     "evalue": "No se pudo generat prestamo ",
     "output_type": "error",
     "traceback": [
      "\u001b[0;31m---------------------------------------------------------------------------\u001b[0m",
      "\u001b[0;31mException\u001b[0m                                 Traceback (most recent call last)",
      "\u001b[1;32m/Users/alvaros/Documents/MATLAB/PersonalProjects/Cosecha_Colectiva/notebooks/first_tests/creacion_sesion.ipynb Cell 6\u001b[0m in \u001b[0;36m<cell line: 2>\u001b[0;34m()\u001b[0m\n\u001b[1;32m      <a href='vscode-notebook-cell:/Users/alvaros/Documents/MATLAB/PersonalProjects/Cosecha_Colectiva/notebooks/first_tests/creacion_sesion.ipynb#X22sZmlsZQ%3D%3D?line=0'>1</a>\u001b[0m dict_prestamo \u001b[39m=\u001b[39m {\u001b[39m864\u001b[39m: \u001b[39m1000.0\u001b[39m}\n\u001b[0;32m----> <a href='vscode-notebook-cell:/Users/alvaros/Documents/MATLAB/PersonalProjects/Cosecha_Colectiva/notebooks/first_tests/creacion_sesion.ipynb#X22sZmlsZQ%3D%3D?line=1'>2</a>\u001b[0m tca\u001b[39m.\u001b[39;49mCAF_API_sessions_tester\u001b[39m.\u001b[39;49mgenerar_prestamo(dict_prestamo, id_grupo, admin_header)\n",
      "File \u001b[0;32m~/Documents/MATLAB/PersonalProjects/Cosecha_Colectiva/cosecha_colectiva/test_cosecha_api.py:372\u001b[0m, in \u001b[0;36mCAF_API_sessions_tester.generar_prestamo\u001b[0;34m(dict_prestamo, id_grupo, admin_header)\u001b[0m\n\u001b[1;32m    370\u001b[0m \u001b[39mif\u001b[39;00m \u001b[39mnot\u001b[39;00m response:\n\u001b[1;32m    371\u001b[0m     logging\u001b[39m.\u001b[39merror(\u001b[39m'\u001b[39m\u001b[39m%s\u001b[39;00m\u001b[39m'\u001b[39m, response\u001b[39m.\u001b[39mtext)\n\u001b[0;32m--> 372\u001b[0m     \u001b[39mraise\u001b[39;00m \u001b[39mException\u001b[39;00m(\u001b[39m'\u001b[39m\u001b[39mNo se pudo generat prestamo \u001b[39m\u001b[39m'\u001b[39m)\n\u001b[1;32m    374\u001b[0m time\u001b[39m.\u001b[39msleep(\u001b[39m1\u001b[39m)\n",
      "\u001b[0;31mException\u001b[0m: No se pudo generat prestamo "
     ]
    }
   ],
   "source": [
    "dict_prestamo = {864: 1000.0}\n",
    "tca.CAF_API_sessions_tester.generar_prestamo(dict_prestamo, id_grupo, admin_header)"
   ]
  },
  {
   "cell_type": "code",
   "execution_count": 5,
   "id": "722b256f",
   "metadata": {},
   "outputs": [
    {
     "data": {
      "text/plain": [
       "{'Acuerdo_id': 174,\n",
       " 'Grupo_id': 1174,\n",
       " 'Fecha_acuerdos': datetime.date(2023, 3, 24),\n",
       " 'Fecha_acuerdos_fin': datetime.date(2022, 11, 10),\n",
       " 'Status': 1,\n",
       " 'Periodo_reuniones': 4,\n",
       " 'Periodo_cargos': 4,\n",
       " 'Limite_inasistencias': 4,\n",
       " 'Minimo_aportacion': 100,\n",
       " 'Costo_acciones': 10,\n",
       " 'Tasa_interes': 2.0,\n",
       " 'Limite_credito': 20,\n",
       " 'Porcentaje_fondo_comun': 100,\n",
       " 'Creditos_simultaneos': 2,\n",
       " 'Interes_morosidad': 1.5,\n",
       " 'Ampliacion_prestamos': 1,\n",
       " 'Interes_ampliacion': 1.5,\n",
       " 'Mod_calculo_interes': 1,\n",
       " 'Tasa_interes_prestamo_grande': 1.5,\n",
       " 'Id_socio_administrador': 784,\n",
       " 'Id_socio_administrador_suplente': 794}"
      ]
     },
     "execution_count": 5,
     "metadata": {},
     "output_type": "execute_result"
    }
   ],
   "source": [
    "dict_acuerdos = qc.get_acuerdos_grupo(id_grupo)\n",
    "dict_acuerdos"
   ]
  },
  {
   "cell_type": "code",
   "execution_count": 6,
   "id": "faec9236",
   "metadata": {},
   "outputs": [
    {
     "data": {
      "text/plain": [
       "{0: 784,\n",
       " 1: 794,\n",
       " 2: 804,\n",
       " 3: 814,\n",
       " 4: 824,\n",
       " 5: 834,\n",
       " 6: 844,\n",
       " 7: 854,\n",
       " 8: 864,\n",
       " 9: 874}"
      ]
     },
     "execution_count": 6,
     "metadata": {},
     "output_type": "execute_result"
    }
   ],
   "source": [
    "# toma la info de la sesion del excel y lo \"combina\" con los id de usuarios\n",
    "dict_users = qc.get_socios_grupo(id_grupo)\n",
    "dict_users"
   ]
  },
  {
   "cell_type": "code",
   "execution_count": 7,
   "id": "d3b43073",
   "metadata": {},
   "outputs": [
    {
     "data": {
      "text/plain": [
       "{'AHORRO': {784: 15.0,\n",
       "  794: 20.0,\n",
       "  804: 20.0,\n",
       "  814: 10.0,\n",
       "  824: 15.0,\n",
       "  834: 20.0,\n",
       "  844: 20.0,\n",
       "  854: 20.0,\n",
       "  864: 20.0,\n",
       "  874: 10.0},\n",
       " 'PRÉSTAMO': {804: 675.0, 824: 675.0, 844: 675.0, 854: 675.0},\n",
       " 'ABONO': {784: 212.0, 814: 212.0, 834: 350.0, 864: 212.0},\n",
       " 'MULTAS': {874: 20.0},\n",
       " 'INTERÉS': {784: 12.0, 814: 12.0, 834: 20.0, 864: 12.0}}"
      ]
     },
     "execution_count": 7,
     "metadata": {},
     "output_type": "execute_result"
    }
   ],
   "source": [
    "dict_session = ms.get_session_info_xls(xls_name, 5)\n",
    "dict_session = ms.insert_id_users_dict_session(dict_session, dict_users)\n",
    "dict_session"
   ]
  },
  {
   "cell_type": "code",
   "execution_count": 8,
   "id": "ee36a094",
   "metadata": {},
   "outputs": [
    {
     "name": "stdout",
     "output_type": "stream",
     "text": [
      "{'Cantidad': 200}\n",
      "https://cosechacolectiva.herokuapp.com/api/grupos/1154/socios/784/acciones\n",
      "{\"code\":200,\"message\":\"Acciones compradas\"}\n",
      "{'Cantidad': 100}\n",
      "https://cosechacolectiva.herokuapp.com/api/grupos/1154/socios/794/acciones\n",
      "{\"code\":200,\"message\":\"Acciones compradas\"}\n",
      "{'Cantidad': 200}\n",
      "https://cosechacolectiva.herokuapp.com/api/grupos/1154/socios/804/acciones\n",
      "{\"code\":200,\"message\":\"Acciones compradas\"}\n",
      "{'Cantidad': 100}\n",
      "https://cosechacolectiva.herokuapp.com/api/grupos/1154/socios/814/acciones\n",
      "{\"code\":200,\"message\":\"Acciones compradas\"}\n",
      "{'Cantidad': 100}\n",
      "https://cosechacolectiva.herokuapp.com/api/grupos/1154/socios/824/acciones\n",
      "{\"code\":200,\"message\":\"Acciones compradas\"}\n",
      "{'Cantidad': 200}\n",
      "https://cosechacolectiva.herokuapp.com/api/grupos/1154/socios/834/acciones\n",
      "{\"code\":200,\"message\":\"Acciones compradas\"}\n",
      "{'Cantidad': 200}\n",
      "https://cosechacolectiva.herokuapp.com/api/grupos/1154/socios/844/acciones\n",
      "{\"code\":200,\"message\":\"Acciones compradas\"}\n",
      "{'Cantidad': 200}\n",
      "https://cosechacolectiva.herokuapp.com/api/grupos/1154/socios/854/acciones\n",
      "{\"code\":200,\"message\":\"Acciones compradas\"}\n",
      "{'Cantidad': 100}\n",
      "https://cosechacolectiva.herokuapp.com/api/grupos/1154/socios/864/acciones\n",
      "{\"code\":200,\"message\":\"Acciones compradas\"}\n"
     ]
    }
   ],
   "source": [
    "#Compra acciones\n",
    "tca.CAF_API_sessions_tester.compra_acciones(dict_session[\"AHORRO\"], id_grupo, admin_header, dict_acuerdos['Costo_acciones'])\n"
   ]
  },
  {
   "cell_type": "code",
   "execution_count": 9,
   "id": "1c0b6596",
   "metadata": {},
   "outputs": [],
   "source": [
    "tca.CAF_API_sessions_tester.insertar_multa(dict_session['MULTAS'], id_grupo, admin_header)"
   ]
  },
  {
   "cell_type": "code",
   "execution_count": 10,
   "id": "70170443",
   "metadata": {},
   "outputs": [
    {
     "name": "stderr",
     "output_type": "stream",
     "text": [
      "[2023-03-24 11:50:26,812][WARNING]: MySQL server has gone away. Reconnecting to the server.\n"
     ]
    }
   ],
   "source": [
    "tca.CAF_API_sessions_tester.pagar_multas(dict_session['MULTAS'], id_grupo, admin_header)"
   ]
  },
  {
   "cell_type": "code",
   "execution_count": 11,
   "id": "788fc46a",
   "metadata": {},
   "outputs": [
    {
     "name": "stdout",
     "output_type": "stream",
     "text": [
      "{'Prestamos': [{'Prestamo_id': [14], 'Monto_abono': 340.0}]}\n",
      "https://cosechacolectiva.herokuapp.com/api/grupos/1154/prestamos/\n",
      "{\"code\":200,\"message\":\"Pagos realizados\"}\n"
     ]
    }
   ],
   "source": [
    "tca.CAF_API_sessions_tester.pagar_prestamo(dict_session['ABONO'], id_grupo, admin_header)"
   ]
  },
  {
   "cell_type": "code",
   "execution_count": 12,
   "id": "54962b8c",
   "metadata": {},
   "outputs": [
    {
     "name": "stdout",
     "output_type": "stream",
     "text": [
      "(784, 600.0)\n",
      "{'Monto_prestamo': 600.0, 'Num_sesiones': 6, 'Observaciones': 'Prestamo socio 784 grupo: 1154', 'Estatus_ampliacion': False, 'Prestamo_original_id': None}\n",
      "https://cosechacolectiva.herokuapp.com/api/grupos/1154/socios/784/prestamos/\n",
      "{\"code\":200,\"message\":\"Listo (:\"}\n",
      "(814, 590.0)\n",
      "{'Monto_prestamo': 590.0, 'Num_sesiones': 6, 'Observaciones': 'Prestamo socio 814 grupo: 1154', 'Estatus_ampliacion': False, 'Prestamo_original_id': None}\n",
      "https://cosechacolectiva.herokuapp.com/api/grupos/1154/socios/814/prestamos/\n",
      "{\"code\":200,\"message\":\"Listo (:\"}\n",
      "(864, 590.0)\n",
      "{'Monto_prestamo': 590.0, 'Num_sesiones': 6, 'Observaciones': 'Prestamo socio 864 grupo: 1154', 'Estatus_ampliacion': False, 'Prestamo_original_id': None}\n",
      "https://cosechacolectiva.herokuapp.com/api/grupos/1154/socios/864/prestamos/\n",
      "{\"code\":200,\"message\":\"Listo (:\"}\n"
     ]
    }
   ],
   "source": [
    "tca.CAF_API_sessions_tester.generar_prestamo(dict_session['PRÉSTAMO'], id_grupo, admin_header)"
   ]
  },
  {
   "cell_type": "code",
   "execution_count": 7,
   "id": "0743eba9",
   "metadata": {},
   "outputs": [
    {
     "name": "stdout",
     "output_type": "stream",
     "text": [
      "{\"code\":200,\"message\":\"Sesion finalizada\"}\n"
     ]
    }
   ],
   "source": [
    "#Finalizar sesion\n",
    "tca.CAF_API_sessions_tester.end_session(id_grupo, admin_header)"
   ]
  },
  {
   "cell_type": "code",
   "execution_count": null,
   "id": "5da79012",
   "metadata": {},
   "outputs": [],
   "source": []
  }
 ],
 "metadata": {
  "kernelspec": {
   "display_name": "cosecha_colectiva_env",
   "language": "python",
   "name": "python3"
  },
  "language_info": {
   "codemirror_mode": {
    "name": "ipython",
    "version": 3
   },
   "file_extension": ".py",
   "mimetype": "text/x-python",
   "name": "python",
   "nbconvert_exporter": "python",
   "pygments_lexer": "ipython3",
   "version": "3.9.12"
  },
  "vscode": {
   "interpreter": {
    "hash": "cdce1354676d05e6f6f63465f4a19b9f41e207b5ed2e5edccc9c3b7980cbdc99"
   }
  }
 },
 "nbformat": 4,
 "nbformat_minor": 5
}
